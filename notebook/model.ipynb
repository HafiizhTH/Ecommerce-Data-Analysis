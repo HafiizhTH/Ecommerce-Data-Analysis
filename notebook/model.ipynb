{
 "cells": [
  {
   "cell_type": "markdown",
   "metadata": {},
   "source": [
    "# Proyek Analisis Data: E-Commerce\n",
    "- Nama: Hafiizh Taufiqul Hakim\n",
    "- Email: 2012500720@student.budiluhur.ac.id\n",
    "- Id Dicoding: hafizhtaufiqul1002"
   ]
  },
  {
   "cell_type": "markdown",
   "metadata": {},
   "source": [
    "## Menentukan Pertanyaan Bisnis"
   ]
  },
  {
   "cell_type": "markdown",
   "metadata": {},
   "source": [
    "- Pertanyaan 1: Bagaimana kita dapat mengukur tingkat kepuasan pelanggan dalam bentuk persentase?\n",
    "- Pertanyaan 2: Bagaimana distribusi status pesanan pelanggan, seperti pesanan yang sedang diproses, pesanan dalam pengiriman, pesanan yang telah selesai, hingga pesanan yang mengalami pembatalan?\n",
    "- Pertanyaan 3: Produk apa saja yang memiliki penjualan terbanyak dan rating terbaik?\n",
    "- Pertanyaan 4: Kota mana saja yang memiliki penjualan terbanyak?"
   ]
  },
  {
   "cell_type": "markdown",
   "metadata": {},
   "source": [
    "## Menyiapkan semua library yang dibutuhkan"
   ]
  },
  {
   "cell_type": "code",
   "execution_count": 2,
   "metadata": {
    "tags": []
   },
   "outputs": [],
   "source": [
    "import pandas as pd\n",
    "import numpy as np\n",
    "import scipy\n",
    "import matplotlib.pyplot as plt\n",
    "import seaborn as sns\n",
    "import session_info\n",
    "from sklearn.preprocessing import StandardScaler\n",
    "from sklearn.cluster import KMeans"
   ]
  },
  {
   "cell_type": "code",
   "execution_count": 3,
   "metadata": {
    "tags": []
   },
   "outputs": [
    {
     "data": {
      "text/html": [
       "<details>\n",
       "<summary>Click to view session information</summary>\n",
       "<pre>\n",
       "-----\n",
       "matplotlib          3.8.2\n",
       "numpy               1.26.1\n",
       "pandas              2.1.1\n",
       "scipy               1.11.4\n",
       "seaborn             0.13.0\n",
       "session_info        1.0.0\n",
       "sklearn             1.3.2\n",
       "-----\n",
       "</pre>\n",
       "<details>\n",
       "<summary>Click to view modules imported as dependencies</summary>\n",
       "<pre>\n",
       "PIL                 10.1.0\n",
       "asttokens           NA\n",
       "backcall            0.2.0\n",
       "colorama            0.4.6\n",
       "comm                0.1.4\n",
       "cycler              0.12.1\n",
       "cython_runtime      NA\n",
       "dateutil            2.8.2\n",
       "debugpy             1.8.0\n",
       "decorator           5.1.1\n",
       "executing           2.0.0\n",
       "ipykernel           6.25.2\n",
       "jedi                0.19.1\n",
       "joblib              1.3.2\n",
       "kiwisolver          1.4.5\n",
       "mpl_toolkits        NA\n",
       "packaging           23.2\n",
       "parso               0.8.3\n",
       "pickleshare         0.7.5\n",
       "platformdirs        3.11.0\n",
       "prompt_toolkit      3.0.39\n",
       "psutil              5.9.6\n",
       "pure_eval           0.2.2\n",
       "pydev_ipython       NA\n",
       "pydevconsole        NA\n",
       "pydevd              2.9.5\n",
       "pydevd_file_utils   NA\n",
       "pydevd_plugins      NA\n",
       "pydevd_tracing      NA\n",
       "pygments            2.16.1\n",
       "pyparsing           3.1.1\n",
       "pythoncom           NA\n",
       "pytz                2023.3.post1\n",
       "pywin32_bootstrap   NA\n",
       "pywin32_system32    NA\n",
       "pywintypes          NA\n",
       "six                 1.16.0\n",
       "stack_data          0.6.3\n",
       "threadpoolctl       3.2.0\n",
       "tornado             6.3.3\n",
       "traitlets           5.11.2\n",
       "typing_extensions   NA\n",
       "wcwidth             0.2.8\n",
       "win32api            NA\n",
       "win32com            NA\n",
       "zmq                 25.1.1\n",
       "</pre>\n",
       "</details> <!-- seems like this ends pre, so might as well be explicit -->\n",
       "<pre>\n",
       "-----\n",
       "IPython             8.16.1\n",
       "jupyter_client      8.4.0\n",
       "jupyter_core        5.4.0\n",
       "-----\n",
       "Python 3.11.5 (tags/v3.11.5:cce6ba9, Aug 24 2023, 14:38:34) [MSC v.1936 64 bit (AMD64)]\n",
       "Windows-10-10.0.22621-SP0\n",
       "-----\n",
       "Session information updated at 2023-11-29 23:13\n",
       "</pre>\n",
       "</details>"
      ],
      "text/plain": [
       "<IPython.core.display.HTML object>"
      ]
     },
     "execution_count": 3,
     "metadata": {},
     "output_type": "execute_result"
    }
   ],
   "source": [
    "# melihat versi dari setiap library\n",
    "\n",
    "session_info.show()"
   ]
  },
  {
   "cell_type": "markdown",
   "metadata": {},
   "source": [
    "## Data Wrangling"
   ]
  },
  {
   "cell_type": "markdown",
   "metadata": {},
   "source": [
    "### Gathering Data"
   ]
  },
  {
   "cell_type": "code",
   "execution_count": 3,
   "metadata": {
    "tags": []
   },
   "outputs": [],
   "source": [
    "data_customer = pd.read_csv(r'customers_dataset.csv')\n",
    "data_geolocation = pd.read_csv(r'geolocation_dataset.csv')\n",
    "data_order_items = pd.read_csv(r'order_items_dataset.csv')\n",
    "data_order_payments = pd.read_csv(r'order_payments_dataset.csv')\n",
    "data_order_reviews = pd.read_csv(r'order_reviews_dataset.csv')\n",
    "data_orders = pd.read_csv(r'orders_dataset.csv')\n",
    "data_product_category_name = pd.read_csv(r'product_category_name_translation.csv')\n",
    "data_products = pd.read_csv(r'products_dataset.csv')\n",
    "data_sellers = pd.read_csv(r'sellers_dataset.csv')"
   ]
  },
  {
   "cell_type": "code",
   "execution_count": 4,
   "metadata": {
    "tags": []
   },
   "outputs": [
    {
     "data": {
      "text/html": [
       "<div>\n",
       "<style scoped>\n",
       "    .dataframe tbody tr th:only-of-type {\n",
       "        vertical-align: middle;\n",
       "    }\n",
       "\n",
       "    .dataframe tbody tr th {\n",
       "        vertical-align: top;\n",
       "    }\n",
       "\n",
       "    .dataframe thead th {\n",
       "        text-align: right;\n",
       "    }\n",
       "</style>\n",
       "<table border=\"1\" class=\"dataframe\">\n",
       "  <thead>\n",
       "    <tr style=\"text-align: right;\">\n",
       "      <th></th>\n",
       "      <th>product_id</th>\n",
       "      <th>product_category_name</th>\n",
       "      <th>product_name_lenght</th>\n",
       "      <th>product_description_lenght</th>\n",
       "      <th>product_photos_qty</th>\n",
       "      <th>product_weight_g</th>\n",
       "      <th>product_length_cm</th>\n",
       "      <th>product_height_cm</th>\n",
       "      <th>product_width_cm</th>\n",
       "    </tr>\n",
       "  </thead>\n",
       "  <tbody>\n",
       "    <tr>\n",
       "      <th>30441</th>\n",
       "      <td>503976dd917f8133babc4f0492a0e938</td>\n",
       "      <td>automotivo</td>\n",
       "      <td>60.0</td>\n",
       "      <td>202.0</td>\n",
       "      <td>3.0</td>\n",
       "      <td>200.0</td>\n",
       "      <td>16.0</td>\n",
       "      <td>15.0</td>\n",
       "      <td>15.0</td>\n",
       "    </tr>\n",
       "    <tr>\n",
       "      <th>11489</th>\n",
       "      <td>cfa9c98a148ace270ebd4a856316c227</td>\n",
       "      <td>telefonia</td>\n",
       "      <td>58.0</td>\n",
       "      <td>274.0</td>\n",
       "      <td>2.0</td>\n",
       "      <td>200.0</td>\n",
       "      <td>19.0</td>\n",
       "      <td>4.0</td>\n",
       "      <td>11.0</td>\n",
       "    </tr>\n",
       "    <tr>\n",
       "      <th>10363</th>\n",
       "      <td>a25e87065dc111adf2944d046ab3eda1</td>\n",
       "      <td>perfumaria</td>\n",
       "      <td>23.0</td>\n",
       "      <td>68.0</td>\n",
       "      <td>1.0</td>\n",
       "      <td>400.0</td>\n",
       "      <td>35.0</td>\n",
       "      <td>15.0</td>\n",
       "      <td>25.0</td>\n",
       "    </tr>\n",
       "    <tr>\n",
       "      <th>1990</th>\n",
       "      <td>0ca7afae61c042aedfd973110cd8970f</td>\n",
       "      <td>utilidades_domesticas</td>\n",
       "      <td>54.0</td>\n",
       "      <td>493.0</td>\n",
       "      <td>1.0</td>\n",
       "      <td>1733.0</td>\n",
       "      <td>23.0</td>\n",
       "      <td>23.0</td>\n",
       "      <td>21.0</td>\n",
       "    </tr>\n",
       "    <tr>\n",
       "      <th>23537</th>\n",
       "      <td>252641aa4855aef622089db60c4ad90a</td>\n",
       "      <td>cool_stuff</td>\n",
       "      <td>58.0</td>\n",
       "      <td>3217.0</td>\n",
       "      <td>2.0</td>\n",
       "      <td>100.0</td>\n",
       "      <td>16.0</td>\n",
       "      <td>16.0</td>\n",
       "      <td>16.0</td>\n",
       "    </tr>\n",
       "  </tbody>\n",
       "</table>\n",
       "</div>"
      ],
      "text/plain": [
       "                             product_id  product_category_name  \\\n",
       "30441  503976dd917f8133babc4f0492a0e938             automotivo   \n",
       "11489  cfa9c98a148ace270ebd4a856316c227              telefonia   \n",
       "10363  a25e87065dc111adf2944d046ab3eda1             perfumaria   \n",
       "1990   0ca7afae61c042aedfd973110cd8970f  utilidades_domesticas   \n",
       "23537  252641aa4855aef622089db60c4ad90a             cool_stuff   \n",
       "\n",
       "       product_name_lenght  product_description_lenght  product_photos_qty  \\\n",
       "30441                 60.0                       202.0                 3.0   \n",
       "11489                 58.0                       274.0                 2.0   \n",
       "10363                 23.0                        68.0                 1.0   \n",
       "1990                  54.0                       493.0                 1.0   \n",
       "23537                 58.0                      3217.0                 2.0   \n",
       "\n",
       "       product_weight_g  product_length_cm  product_height_cm  \\\n",
       "30441             200.0               16.0               15.0   \n",
       "11489             200.0               19.0                4.0   \n",
       "10363             400.0               35.0               15.0   \n",
       "1990             1733.0               23.0               23.0   \n",
       "23537             100.0               16.0               16.0   \n",
       "\n",
       "       product_width_cm  \n",
       "30441              15.0  \n",
       "11489              11.0  \n",
       "10363              25.0  \n",
       "1990               21.0  \n",
       "23537              16.0  "
      ]
     },
     "execution_count": 4,
     "metadata": {},
     "output_type": "execute_result"
    }
   ],
   "source": [
    "data_products.sample(5)"
   ]
  },
  {
   "cell_type": "code",
   "execution_count": 5,
   "metadata": {
    "tags": []
   },
   "outputs": [
    {
     "data": {
      "text/html": [
       "<div>\n",
       "<style scoped>\n",
       "    .dataframe tbody tr th:only-of-type {\n",
       "        vertical-align: middle;\n",
       "    }\n",
       "\n",
       "    .dataframe tbody tr th {\n",
       "        vertical-align: top;\n",
       "    }\n",
       "\n",
       "    .dataframe thead th {\n",
       "        text-align: right;\n",
       "    }\n",
       "</style>\n",
       "<table border=\"1\" class=\"dataframe\">\n",
       "  <thead>\n",
       "    <tr style=\"text-align: right;\">\n",
       "      <th></th>\n",
       "      <th>product_category_name</th>\n",
       "      <th>product_category_name_english</th>\n",
       "    </tr>\n",
       "  </thead>\n",
       "  <tbody>\n",
       "    <tr>\n",
       "      <th>64</th>\n",
       "      <td>cds_dvds_musicais</td>\n",
       "      <td>cds_dvds_musicals</td>\n",
       "    </tr>\n",
       "    <tr>\n",
       "      <th>6</th>\n",
       "      <td>perfumaria</td>\n",
       "      <td>perfumery</td>\n",
       "    </tr>\n",
       "    <tr>\n",
       "      <th>19</th>\n",
       "      <td>consoles_games</td>\n",
       "      <td>consoles_games</td>\n",
       "    </tr>\n",
       "    <tr>\n",
       "      <th>22</th>\n",
       "      <td>cool_stuff</td>\n",
       "      <td>cool_stuff</td>\n",
       "    </tr>\n",
       "    <tr>\n",
       "      <th>5</th>\n",
       "      <td>esporte_lazer</td>\n",
       "      <td>sports_leisure</td>\n",
       "    </tr>\n",
       "  </tbody>\n",
       "</table>\n",
       "</div>"
      ],
      "text/plain": [
       "   product_category_name product_category_name_english\n",
       "64     cds_dvds_musicais             cds_dvds_musicals\n",
       "6             perfumaria                     perfumery\n",
       "19        consoles_games                consoles_games\n",
       "22            cool_stuff                    cool_stuff\n",
       "5          esporte_lazer                sports_leisure"
      ]
     },
     "execution_count": 5,
     "metadata": {},
     "output_type": "execute_result"
    }
   ],
   "source": [
    "data_product_category_name.sample(5)"
   ]
  },
  {
   "cell_type": "code",
   "execution_count": 6,
   "metadata": {
    "tags": []
   },
   "outputs": [
    {
     "data": {
      "text/html": [
       "<div>\n",
       "<style scoped>\n",
       "    .dataframe tbody tr th:only-of-type {\n",
       "        vertical-align: middle;\n",
       "    }\n",
       "\n",
       "    .dataframe tbody tr th {\n",
       "        vertical-align: top;\n",
       "    }\n",
       "\n",
       "    .dataframe thead th {\n",
       "        text-align: right;\n",
       "    }\n",
       "</style>\n",
       "<table border=\"1\" class=\"dataframe\">\n",
       "  <thead>\n",
       "    <tr style=\"text-align: right;\">\n",
       "      <th></th>\n",
       "      <th>order_id</th>\n",
       "      <th>order_item_id</th>\n",
       "      <th>product_id</th>\n",
       "      <th>seller_id</th>\n",
       "      <th>shipping_limit_date</th>\n",
       "      <th>price</th>\n",
       "      <th>freight_value</th>\n",
       "    </tr>\n",
       "  </thead>\n",
       "  <tbody>\n",
       "    <tr>\n",
       "      <th>29828</th>\n",
       "      <td>43d3cc829a59f03af73f2a7fc9542ee6</td>\n",
       "      <td>1</td>\n",
       "      <td>0ec5f6f08cf32bc916d0ae089696a44a</td>\n",
       "      <td>218d46b86c1881d022bce9c68a7d4b15</td>\n",
       "      <td>2017-05-10 21:42:23</td>\n",
       "      <td>271.00</td>\n",
       "      <td>21.98</td>\n",
       "    </tr>\n",
       "    <tr>\n",
       "      <th>66757</th>\n",
       "      <td>988f13625d65d9a81777bb4d93d01e1b</td>\n",
       "      <td>1</td>\n",
       "      <td>55624051e913597daf59dee5c582b6b9</td>\n",
       "      <td>7142540dd4c91e2237acb7e911c4eba2</td>\n",
       "      <td>2017-12-11 10:14:45</td>\n",
       "      <td>84.90</td>\n",
       "      <td>13.61</td>\n",
       "    </tr>\n",
       "    <tr>\n",
       "      <th>84336</th>\n",
       "      <td>bfa7102f2f9eb8afc761f1eedb37c744</td>\n",
       "      <td>1</td>\n",
       "      <td>59707268b54920d0814697573f63c818</td>\n",
       "      <td>7c67e1448b00f6e969d365cea6b010ab</td>\n",
       "      <td>2017-03-29 11:15:22</td>\n",
       "      <td>176.99</td>\n",
       "      <td>53.79</td>\n",
       "    </tr>\n",
       "    <tr>\n",
       "      <th>12148</th>\n",
       "      <td>1b90587d2255b7eb1dcc4d2c7eba1c54</td>\n",
       "      <td>1</td>\n",
       "      <td>75c06ee06b201f9b6301d2b5e72993f8</td>\n",
       "      <td>3c7c4a49ec3c6550809089c6a2ca9370</td>\n",
       "      <td>2018-01-25 02:38:48</td>\n",
       "      <td>13.99</td>\n",
       "      <td>14.10</td>\n",
       "    </tr>\n",
       "    <tr>\n",
       "      <th>84927</th>\n",
       "      <td>c0fcc74d37e499bd4f73ddca4ffb9a64</td>\n",
       "      <td>1</td>\n",
       "      <td>fb55982be901439613a95940feefd9ee</td>\n",
       "      <td>3d871de0142ce09b7081e2b9d1733cb1</td>\n",
       "      <td>2018-05-22 14:16:30</td>\n",
       "      <td>79.00</td>\n",
       "      <td>14.64</td>\n",
       "    </tr>\n",
       "  </tbody>\n",
       "</table>\n",
       "</div>"
      ],
      "text/plain": [
       "                               order_id  order_item_id  \\\n",
       "29828  43d3cc829a59f03af73f2a7fc9542ee6              1   \n",
       "66757  988f13625d65d9a81777bb4d93d01e1b              1   \n",
       "84336  bfa7102f2f9eb8afc761f1eedb37c744              1   \n",
       "12148  1b90587d2255b7eb1dcc4d2c7eba1c54              1   \n",
       "84927  c0fcc74d37e499bd4f73ddca4ffb9a64              1   \n",
       "\n",
       "                             product_id                         seller_id  \\\n",
       "29828  0ec5f6f08cf32bc916d0ae089696a44a  218d46b86c1881d022bce9c68a7d4b15   \n",
       "66757  55624051e913597daf59dee5c582b6b9  7142540dd4c91e2237acb7e911c4eba2   \n",
       "84336  59707268b54920d0814697573f63c818  7c67e1448b00f6e969d365cea6b010ab   \n",
       "12148  75c06ee06b201f9b6301d2b5e72993f8  3c7c4a49ec3c6550809089c6a2ca9370   \n",
       "84927  fb55982be901439613a95940feefd9ee  3d871de0142ce09b7081e2b9d1733cb1   \n",
       "\n",
       "       shipping_limit_date   price  freight_value  \n",
       "29828  2017-05-10 21:42:23  271.00          21.98  \n",
       "66757  2017-12-11 10:14:45   84.90          13.61  \n",
       "84336  2017-03-29 11:15:22  176.99          53.79  \n",
       "12148  2018-01-25 02:38:48   13.99          14.10  \n",
       "84927  2018-05-22 14:16:30   79.00          14.64  "
      ]
     },
     "execution_count": 6,
     "metadata": {},
     "output_type": "execute_result"
    }
   ],
   "source": [
    "data_order_items.sample(5)"
   ]
  },
  {
   "cell_type": "code",
   "execution_count": 7,
   "metadata": {
    "tags": []
   },
   "outputs": [
    {
     "data": {
      "text/html": [
       "<div>\n",
       "<style scoped>\n",
       "    .dataframe tbody tr th:only-of-type {\n",
       "        vertical-align: middle;\n",
       "    }\n",
       "\n",
       "    .dataframe tbody tr th {\n",
       "        vertical-align: top;\n",
       "    }\n",
       "\n",
       "    .dataframe thead th {\n",
       "        text-align: right;\n",
       "    }\n",
       "</style>\n",
       "<table border=\"1\" class=\"dataframe\">\n",
       "  <thead>\n",
       "    <tr style=\"text-align: right;\">\n",
       "      <th></th>\n",
       "      <th>order_id</th>\n",
       "      <th>customer_id</th>\n",
       "      <th>order_status</th>\n",
       "      <th>order_purchase_timestamp</th>\n",
       "      <th>order_approved_at</th>\n",
       "      <th>order_delivered_carrier_date</th>\n",
       "      <th>order_delivered_customer_date</th>\n",
       "      <th>order_estimated_delivery_date</th>\n",
       "    </tr>\n",
       "  </thead>\n",
       "  <tbody>\n",
       "    <tr>\n",
       "      <th>79672</th>\n",
       "      <td>0e4463c6e144261bd3b088fac9fef441</td>\n",
       "      <td>e96b8d0cf6eb527f97d92d4d8ed31ba5</td>\n",
       "      <td>delivered</td>\n",
       "      <td>2017-12-24 17:47:55</td>\n",
       "      <td>2017-12-27 04:07:13</td>\n",
       "      <td>2017-12-29 17:22:42</td>\n",
       "      <td>2018-01-08 20:03:29</td>\n",
       "      <td>2018-01-19 00:00:00</td>\n",
       "    </tr>\n",
       "    <tr>\n",
       "      <th>25893</th>\n",
       "      <td>2cc606fca85523eee5d51c8d9defe0a5</td>\n",
       "      <td>09e3aaa17d44116c17b6627e5e9630d7</td>\n",
       "      <td>delivered</td>\n",
       "      <td>2018-07-15 07:08:12</td>\n",
       "      <td>2018-07-17 04:31:35</td>\n",
       "      <td>2018-07-23 11:31:00</td>\n",
       "      <td>2018-07-30 14:57:55</td>\n",
       "      <td>2018-08-13 00:00:00</td>\n",
       "    </tr>\n",
       "    <tr>\n",
       "      <th>44900</th>\n",
       "      <td>e7321975436d5f8b04e468048b861e31</td>\n",
       "      <td>1c587b7eaadf2a38dc35ae4b82db832a</td>\n",
       "      <td>delivered</td>\n",
       "      <td>2017-06-02 12:09:06</td>\n",
       "      <td>2017-06-06 13:10:25</td>\n",
       "      <td>2017-06-16 19:28:28</td>\n",
       "      <td>2017-06-23 11:12:08</td>\n",
       "      <td>2017-07-05 00:00:00</td>\n",
       "    </tr>\n",
       "    <tr>\n",
       "      <th>11009</th>\n",
       "      <td>c6ad7089d27e68a395de452a632cb54e</td>\n",
       "      <td>0a772b10ef12b6b87ccb345a44eab70e</td>\n",
       "      <td>delivered</td>\n",
       "      <td>2018-08-05 11:47:06</td>\n",
       "      <td>2018-08-06 15:25:14</td>\n",
       "      <td>2018-08-07 12:37:00</td>\n",
       "      <td>2018-08-13 12:38:42</td>\n",
       "      <td>2018-08-28 00:00:00</td>\n",
       "    </tr>\n",
       "    <tr>\n",
       "      <th>98005</th>\n",
       "      <td>b2bb04e94ed5f8785791697f33fce452</td>\n",
       "      <td>edfb309e51665130ff3fa49524cc8ae1</td>\n",
       "      <td>delivered</td>\n",
       "      <td>2018-06-08 16:37:54</td>\n",
       "      <td>2018-06-08 19:31:01</td>\n",
       "      <td>2018-06-11 09:42:00</td>\n",
       "      <td>2018-06-21 16:22:43</td>\n",
       "      <td>2018-07-13 00:00:00</td>\n",
       "    </tr>\n",
       "  </tbody>\n",
       "</table>\n",
       "</div>"
      ],
      "text/plain": [
       "                               order_id                       customer_id  \\\n",
       "79672  0e4463c6e144261bd3b088fac9fef441  e96b8d0cf6eb527f97d92d4d8ed31ba5   \n",
       "25893  2cc606fca85523eee5d51c8d9defe0a5  09e3aaa17d44116c17b6627e5e9630d7   \n",
       "44900  e7321975436d5f8b04e468048b861e31  1c587b7eaadf2a38dc35ae4b82db832a   \n",
       "11009  c6ad7089d27e68a395de452a632cb54e  0a772b10ef12b6b87ccb345a44eab70e   \n",
       "98005  b2bb04e94ed5f8785791697f33fce452  edfb309e51665130ff3fa49524cc8ae1   \n",
       "\n",
       "      order_status order_purchase_timestamp    order_approved_at  \\\n",
       "79672    delivered      2017-12-24 17:47:55  2017-12-27 04:07:13   \n",
       "25893    delivered      2018-07-15 07:08:12  2018-07-17 04:31:35   \n",
       "44900    delivered      2017-06-02 12:09:06  2017-06-06 13:10:25   \n",
       "11009    delivered      2018-08-05 11:47:06  2018-08-06 15:25:14   \n",
       "98005    delivered      2018-06-08 16:37:54  2018-06-08 19:31:01   \n",
       "\n",
       "      order_delivered_carrier_date order_delivered_customer_date  \\\n",
       "79672          2017-12-29 17:22:42           2018-01-08 20:03:29   \n",
       "25893          2018-07-23 11:31:00           2018-07-30 14:57:55   \n",
       "44900          2017-06-16 19:28:28           2017-06-23 11:12:08   \n",
       "11009          2018-08-07 12:37:00           2018-08-13 12:38:42   \n",
       "98005          2018-06-11 09:42:00           2018-06-21 16:22:43   \n",
       "\n",
       "      order_estimated_delivery_date  \n",
       "79672           2018-01-19 00:00:00  \n",
       "25893           2018-08-13 00:00:00  \n",
       "44900           2017-07-05 00:00:00  \n",
       "11009           2018-08-28 00:00:00  \n",
       "98005           2018-07-13 00:00:00  "
      ]
     },
     "execution_count": 7,
     "metadata": {},
     "output_type": "execute_result"
    }
   ],
   "source": [
    "data_orders.sample(5)"
   ]
  },
  {
   "cell_type": "code",
   "execution_count": 8,
   "metadata": {
    "tags": []
   },
   "outputs": [
    {
     "data": {
      "text/html": [
       "<div>\n",
       "<style scoped>\n",
       "    .dataframe tbody tr th:only-of-type {\n",
       "        vertical-align: middle;\n",
       "    }\n",
       "\n",
       "    .dataframe tbody tr th {\n",
       "        vertical-align: top;\n",
       "    }\n",
       "\n",
       "    .dataframe thead th {\n",
       "        text-align: right;\n",
       "    }\n",
       "</style>\n",
       "<table border=\"1\" class=\"dataframe\">\n",
       "  <thead>\n",
       "    <tr style=\"text-align: right;\">\n",
       "      <th></th>\n",
       "      <th>review_id</th>\n",
       "      <th>order_id</th>\n",
       "      <th>review_score</th>\n",
       "      <th>review_comment_title</th>\n",
       "      <th>review_comment_message</th>\n",
       "      <th>review_creation_date</th>\n",
       "      <th>review_answer_timestamp</th>\n",
       "    </tr>\n",
       "  </thead>\n",
       "  <tbody>\n",
       "    <tr>\n",
       "      <th>42186</th>\n",
       "      <td>9fa180b1191e6a054c50b9bd0567534d</td>\n",
       "      <td>599c3870e523bd6be85a650381029959</td>\n",
       "      <td>5</td>\n",
       "      <td>NaN</td>\n",
       "      <td>NaN</td>\n",
       "      <td>2018-08-03 00:00:00</td>\n",
       "      <td>2018-08-05 12:42:01</td>\n",
       "    </tr>\n",
       "    <tr>\n",
       "      <th>30387</th>\n",
       "      <td>33c2bc967745e7dfdf947f645ff7f3f8</td>\n",
       "      <td>e8e186c0ebe18282aada53c56e7da34f</td>\n",
       "      <td>2</td>\n",
       "      <td>NaN</td>\n",
       "      <td>Produto de boa qualidade, porém, comprei para ...</td>\n",
       "      <td>2017-06-01 00:00:00</td>\n",
       "      <td>2017-06-01 20:34:09</td>\n",
       "    </tr>\n",
       "    <tr>\n",
       "      <th>36718</th>\n",
       "      <td>5ef15c2bebad84584a2094bfd00efafa</td>\n",
       "      <td>e80668d1356f3b4f4c77cbdb452adb7b</td>\n",
       "      <td>4</td>\n",
       "      <td>NaN</td>\n",
       "      <td>NaN</td>\n",
       "      <td>2017-11-02 00:00:00</td>\n",
       "      <td>2017-11-05 20:24:35</td>\n",
       "    </tr>\n",
       "    <tr>\n",
       "      <th>90990</th>\n",
       "      <td>b5aff7d3311a222f777036ce5ef5d4a0</td>\n",
       "      <td>0ab83b3fdbca202530950e8f1896412a</td>\n",
       "      <td>5</td>\n",
       "      <td>NaN</td>\n",
       "      <td>NaN</td>\n",
       "      <td>2017-05-24 00:00:00</td>\n",
       "      <td>2017-05-25 11:54:43</td>\n",
       "    </tr>\n",
       "    <tr>\n",
       "      <th>85289</th>\n",
       "      <td>8ccc39ab31a456a962d5fcca24c1b8db</td>\n",
       "      <td>f6936f90b47f4c2a88307ac09bcf36e6</td>\n",
       "      <td>5</td>\n",
       "      <td>NaN</td>\n",
       "      <td>NaN</td>\n",
       "      <td>2018-02-03 00:00:00</td>\n",
       "      <td>2018-02-04 12:17:44</td>\n",
       "    </tr>\n",
       "  </tbody>\n",
       "</table>\n",
       "</div>"
      ],
      "text/plain": [
       "                              review_id                          order_id  \\\n",
       "42186  9fa180b1191e6a054c50b9bd0567534d  599c3870e523bd6be85a650381029959   \n",
       "30387  33c2bc967745e7dfdf947f645ff7f3f8  e8e186c0ebe18282aada53c56e7da34f   \n",
       "36718  5ef15c2bebad84584a2094bfd00efafa  e80668d1356f3b4f4c77cbdb452adb7b   \n",
       "90990  b5aff7d3311a222f777036ce5ef5d4a0  0ab83b3fdbca202530950e8f1896412a   \n",
       "85289  8ccc39ab31a456a962d5fcca24c1b8db  f6936f90b47f4c2a88307ac09bcf36e6   \n",
       "\n",
       "       review_score review_comment_title  \\\n",
       "42186             5                  NaN   \n",
       "30387             2                  NaN   \n",
       "36718             4                  NaN   \n",
       "90990             5                  NaN   \n",
       "85289             5                  NaN   \n",
       "\n",
       "                                  review_comment_message review_creation_date  \\\n",
       "42186                                                NaN  2018-08-03 00:00:00   \n",
       "30387  Produto de boa qualidade, porém, comprei para ...  2017-06-01 00:00:00   \n",
       "36718                                                NaN  2017-11-02 00:00:00   \n",
       "90990                                                NaN  2017-05-24 00:00:00   \n",
       "85289                                                NaN  2018-02-03 00:00:00   \n",
       "\n",
       "      review_answer_timestamp  \n",
       "42186     2018-08-05 12:42:01  \n",
       "30387     2017-06-01 20:34:09  \n",
       "36718     2017-11-05 20:24:35  \n",
       "90990     2017-05-25 11:54:43  \n",
       "85289     2018-02-04 12:17:44  "
      ]
     },
     "execution_count": 8,
     "metadata": {},
     "output_type": "execute_result"
    }
   ],
   "source": [
    "data_order_reviews.sample(5)"
   ]
  },
  {
   "cell_type": "code",
   "execution_count": 9,
   "metadata": {
    "tags": []
   },
   "outputs": [
    {
     "data": {
      "text/html": [
       "<div>\n",
       "<style scoped>\n",
       "    .dataframe tbody tr th:only-of-type {\n",
       "        vertical-align: middle;\n",
       "    }\n",
       "\n",
       "    .dataframe tbody tr th {\n",
       "        vertical-align: top;\n",
       "    }\n",
       "\n",
       "    .dataframe thead th {\n",
       "        text-align: right;\n",
       "    }\n",
       "</style>\n",
       "<table border=\"1\" class=\"dataframe\">\n",
       "  <thead>\n",
       "    <tr style=\"text-align: right;\">\n",
       "      <th></th>\n",
       "      <th>seller_id</th>\n",
       "      <th>seller_zip_code_prefix</th>\n",
       "      <th>seller_city</th>\n",
       "      <th>seller_state</th>\n",
       "    </tr>\n",
       "  </thead>\n",
       "  <tbody>\n",
       "    <tr>\n",
       "      <th>1458</th>\n",
       "      <td>447d377bdb757058acb569025ee18a93</td>\n",
       "      <td>99500</td>\n",
       "      <td>carazinho</td>\n",
       "      <td>RS</td>\n",
       "    </tr>\n",
       "    <tr>\n",
       "      <th>1713</th>\n",
       "      <td>c6381d2d013342748761e906d45aff76</td>\n",
       "      <td>93180</td>\n",
       "      <td>portao</td>\n",
       "      <td>RS</td>\n",
       "    </tr>\n",
       "    <tr>\n",
       "      <th>3086</th>\n",
       "      <td>725af026f869236a8dd0ceb98564d156</td>\n",
       "      <td>35530</td>\n",
       "      <td>claudio</td>\n",
       "      <td>MG</td>\n",
       "    </tr>\n",
       "    <tr>\n",
       "      <th>960</th>\n",
       "      <td>082e0bf4cb865a6533b1e8e498cc0255</td>\n",
       "      <td>18608</td>\n",
       "      <td>botucatu</td>\n",
       "      <td>SP</td>\n",
       "    </tr>\n",
       "    <tr>\n",
       "      <th>3019</th>\n",
       "      <td>eb3071b9f0b0ddaa2df5ea130f09f26b</td>\n",
       "      <td>4281</td>\n",
       "      <td>sao paulo</td>\n",
       "      <td>SP</td>\n",
       "    </tr>\n",
       "  </tbody>\n",
       "</table>\n",
       "</div>"
      ],
      "text/plain": [
       "                             seller_id  seller_zip_code_prefix seller_city  \\\n",
       "1458  447d377bdb757058acb569025ee18a93                   99500   carazinho   \n",
       "1713  c6381d2d013342748761e906d45aff76                   93180      portao   \n",
       "3086  725af026f869236a8dd0ceb98564d156                   35530     claudio   \n",
       "960   082e0bf4cb865a6533b1e8e498cc0255                   18608    botucatu   \n",
       "3019  eb3071b9f0b0ddaa2df5ea130f09f26b                    4281   sao paulo   \n",
       "\n",
       "     seller_state  \n",
       "1458           RS  \n",
       "1713           RS  \n",
       "3086           MG  \n",
       "960            SP  \n",
       "3019           SP  "
      ]
     },
     "execution_count": 9,
     "metadata": {},
     "output_type": "execute_result"
    }
   ],
   "source": [
    "data_sellers.sample(5)"
   ]
  },
  {
   "cell_type": "code",
   "execution_count": 10,
   "metadata": {
    "tags": []
   },
   "outputs": [],
   "source": [
    "data_merge = pd.merge(\n",
    "    left=data_products,\n",
    "    right=data_product_category_name,\n",
    "    how=\"inner\",\n",
    "    left_on=\"product_category_name\",\n",
    "    right_on=\"product_category_name\"\n",
    ")"
   ]
  },
  {
   "cell_type": "code",
   "execution_count": 11,
   "metadata": {},
   "outputs": [],
   "source": [
    "data_merge = pd.merge(\n",
    "    left=data_merge,\n",
    "    right=data_order_items,\n",
    "    how=\"inner\",\n",
    "    left_on=\"product_id\",\n",
    "    right_on=\"product_id\"\n",
    ")"
   ]
  },
  {
   "cell_type": "code",
   "execution_count": 12,
   "metadata": {
    "tags": []
   },
   "outputs": [],
   "source": [
    "data_merge = pd.merge(\n",
    "    left=data_merge,\n",
    "    right=data_orders,\n",
    "    how=\"inner\",\n",
    "    left_on=\"order_id\",\n",
    "    right_on=\"order_id\"\n",
    ")"
   ]
  },
  {
   "cell_type": "code",
   "execution_count": 13,
   "metadata": {
    "tags": []
   },
   "outputs": [],
   "source": [
    "data_merge = pd.merge(\n",
    "    left=data_merge,\n",
    "    right=data_order_reviews,\n",
    "    how=\"inner\",\n",
    "    left_on=\"order_id\",\n",
    "    right_on=\"order_id\"\n",
    ")"
   ]
  },
  {
   "cell_type": "code",
   "execution_count": 14,
   "metadata": {
    "tags": []
   },
   "outputs": [],
   "source": [
    "data_merge = pd.merge(\n",
    "    left=data_merge,\n",
    "    right=data_sellers,\n",
    "    how=\"inner\",\n",
    "    left_on=\"seller_id\",\n",
    "    right_on=\"seller_id\"\n",
    ")"
   ]
  },
  {
   "cell_type": "code",
   "execution_count": 15,
   "metadata": {
    "tags": []
   },
   "outputs": [
    {
     "data": {
      "text/html": [
       "<div>\n",
       "<style scoped>\n",
       "    .dataframe tbody tr th:only-of-type {\n",
       "        vertical-align: middle;\n",
       "    }\n",
       "\n",
       "    .dataframe tbody tr th {\n",
       "        vertical-align: top;\n",
       "    }\n",
       "\n",
       "    .dataframe thead th {\n",
       "        text-align: right;\n",
       "    }\n",
       "</style>\n",
       "<table border=\"1\" class=\"dataframe\">\n",
       "  <thead>\n",
       "    <tr style=\"text-align: right;\">\n",
       "      <th></th>\n",
       "      <th>product_id</th>\n",
       "      <th>product_category_name</th>\n",
       "      <th>product_name_lenght</th>\n",
       "      <th>product_description_lenght</th>\n",
       "      <th>product_photos_qty</th>\n",
       "      <th>product_weight_g</th>\n",
       "      <th>product_length_cm</th>\n",
       "      <th>product_height_cm</th>\n",
       "      <th>product_width_cm</th>\n",
       "      <th>product_category_name_english</th>\n",
       "      <th>...</th>\n",
       "      <th>order_estimated_delivery_date</th>\n",
       "      <th>review_id</th>\n",
       "      <th>review_score</th>\n",
       "      <th>review_comment_title</th>\n",
       "      <th>review_comment_message</th>\n",
       "      <th>review_creation_date</th>\n",
       "      <th>review_answer_timestamp</th>\n",
       "      <th>seller_zip_code_prefix</th>\n",
       "      <th>seller_city</th>\n",
       "      <th>seller_state</th>\n",
       "    </tr>\n",
       "  </thead>\n",
       "  <tbody>\n",
       "    <tr>\n",
       "      <th>39324</th>\n",
       "      <td>389d119b48cf3043d311335e499d9c6b</td>\n",
       "      <td>ferramentas_jardim</td>\n",
       "      <td>59.0</td>\n",
       "      <td>341.0</td>\n",
       "      <td>2.0</td>\n",
       "      <td>1750.0</td>\n",
       "      <td>37.0</td>\n",
       "      <td>22.0</td>\n",
       "      <td>40.0</td>\n",
       "      <td>garden_tools</td>\n",
       "      <td>...</td>\n",
       "      <td>2018-06-14 00:00:00</td>\n",
       "      <td>ab0305b0a23b66f211c7892f3c29f7a0</td>\n",
       "      <td>5</td>\n",
       "      <td>NaN</td>\n",
       "      <td>NaN</td>\n",
       "      <td>2018-05-17 00:00:00</td>\n",
       "      <td>2018-05-21 14:10:25</td>\n",
       "      <td>15025</td>\n",
       "      <td>sao jose do rio preto</td>\n",
       "      <td>SP</td>\n",
       "    </tr>\n",
       "    <tr>\n",
       "      <th>29594</th>\n",
       "      <td>59391e840980a4bb6df5f44d3d734df7</td>\n",
       "      <td>esporte_lazer</td>\n",
       "      <td>59.0</td>\n",
       "      <td>1025.0</td>\n",
       "      <td>4.0</td>\n",
       "      <td>600.0</td>\n",
       "      <td>16.0</td>\n",
       "      <td>4.0</td>\n",
       "      <td>13.0</td>\n",
       "      <td>sports_leisure</td>\n",
       "      <td>...</td>\n",
       "      <td>2018-03-05 00:00:00</td>\n",
       "      <td>ee9949691b193ae868d7c017f4180f64</td>\n",
       "      <td>4</td>\n",
       "      <td>NaN</td>\n",
       "      <td>NaN</td>\n",
       "      <td>2018-02-20 00:00:00</td>\n",
       "      <td>2018-02-20 22:21:04</td>\n",
       "      <td>32604</td>\n",
       "      <td>betim</td>\n",
       "      <td>MG</td>\n",
       "    </tr>\n",
       "    <tr>\n",
       "      <th>39024</th>\n",
       "      <td>b0961721fd839e9982420e807758a2a6</td>\n",
       "      <td>ferramentas_jardim</td>\n",
       "      <td>59.0</td>\n",
       "      <td>341.0</td>\n",
       "      <td>2.0</td>\n",
       "      <td>1850.0</td>\n",
       "      <td>37.0</td>\n",
       "      <td>22.0</td>\n",
       "      <td>40.0</td>\n",
       "      <td>garden_tools</td>\n",
       "      <td>...</td>\n",
       "      <td>2017-08-31 00:00:00</td>\n",
       "      <td>d81b61df8236876db86a271fb8f6a24f</td>\n",
       "      <td>4</td>\n",
       "      <td>NaN</td>\n",
       "      <td>Bom produto. Atende as expectativas. Igual ao ...</td>\n",
       "      <td>2017-08-09 00:00:00</td>\n",
       "      <td>2017-08-10 03:51:17</td>\n",
       "      <td>15025</td>\n",
       "      <td>sao jose do rio preto</td>\n",
       "      <td>SP</td>\n",
       "    </tr>\n",
       "    <tr>\n",
       "      <th>17367</th>\n",
       "      <td>4678fb24818cab9ec956d9b610435d9f</td>\n",
       "      <td>perfumaria</td>\n",
       "      <td>60.0</td>\n",
       "      <td>225.0</td>\n",
       "      <td>2.0</td>\n",
       "      <td>100.0</td>\n",
       "      <td>18.0</td>\n",
       "      <td>4.0</td>\n",
       "      <td>11.0</td>\n",
       "      <td>perfumery</td>\n",
       "      <td>...</td>\n",
       "      <td>2018-06-18 00:00:00</td>\n",
       "      <td>eda25a6ff9d6be0d7a1af790acc458ff</td>\n",
       "      <td>2</td>\n",
       "      <td>NaN</td>\n",
       "      <td>NaN</td>\n",
       "      <td>2018-06-13 00:00:00</td>\n",
       "      <td>2018-06-15 09:30:12</td>\n",
       "      <td>2215</td>\n",
       "      <td>sao paulo</td>\n",
       "      <td>SP</td>\n",
       "    </tr>\n",
       "    <tr>\n",
       "      <th>21205</th>\n",
       "      <td>aca2eb7d00ea1a7b8ebd4e68314663af</td>\n",
       "      <td>moveis_decoracao</td>\n",
       "      <td>44.0</td>\n",
       "      <td>903.0</td>\n",
       "      <td>6.0</td>\n",
       "      <td>2600.0</td>\n",
       "      <td>50.0</td>\n",
       "      <td>10.0</td>\n",
       "      <td>30.0</td>\n",
       "      <td>furniture_decor</td>\n",
       "      <td>...</td>\n",
       "      <td>2018-04-06 00:00:00</td>\n",
       "      <td>637bacea784530377fec8b50b62a0a86</td>\n",
       "      <td>5</td>\n",
       "      <td>NaN</td>\n",
       "      <td>NaN</td>\n",
       "      <td>2018-03-28 00:00:00</td>\n",
       "      <td>2018-03-28 22:02:12</td>\n",
       "      <td>4782</td>\n",
       "      <td>sao paulo</td>\n",
       "      <td>SP</td>\n",
       "    </tr>\n",
       "  </tbody>\n",
       "</table>\n",
       "<p>5 rows × 32 columns</p>\n",
       "</div>"
      ],
      "text/plain": [
       "                             product_id product_category_name  \\\n",
       "39324  389d119b48cf3043d311335e499d9c6b    ferramentas_jardim   \n",
       "29594  59391e840980a4bb6df5f44d3d734df7         esporte_lazer   \n",
       "39024  b0961721fd839e9982420e807758a2a6    ferramentas_jardim   \n",
       "17367  4678fb24818cab9ec956d9b610435d9f            perfumaria   \n",
       "21205  aca2eb7d00ea1a7b8ebd4e68314663af      moveis_decoracao   \n",
       "\n",
       "       product_name_lenght  product_description_lenght  product_photos_qty  \\\n",
       "39324                 59.0                       341.0                 2.0   \n",
       "29594                 59.0                      1025.0                 4.0   \n",
       "39024                 59.0                       341.0                 2.0   \n",
       "17367                 60.0                       225.0                 2.0   \n",
       "21205                 44.0                       903.0                 6.0   \n",
       "\n",
       "       product_weight_g  product_length_cm  product_height_cm  \\\n",
       "39324            1750.0               37.0               22.0   \n",
       "29594             600.0               16.0                4.0   \n",
       "39024            1850.0               37.0               22.0   \n",
       "17367             100.0               18.0                4.0   \n",
       "21205            2600.0               50.0               10.0   \n",
       "\n",
       "       product_width_cm product_category_name_english  ...  \\\n",
       "39324              40.0                  garden_tools  ...   \n",
       "29594              13.0                sports_leisure  ...   \n",
       "39024              40.0                  garden_tools  ...   \n",
       "17367              11.0                     perfumery  ...   \n",
       "21205              30.0               furniture_decor  ...   \n",
       "\n",
       "      order_estimated_delivery_date                         review_id  \\\n",
       "39324           2018-06-14 00:00:00  ab0305b0a23b66f211c7892f3c29f7a0   \n",
       "29594           2018-03-05 00:00:00  ee9949691b193ae868d7c017f4180f64   \n",
       "39024           2017-08-31 00:00:00  d81b61df8236876db86a271fb8f6a24f   \n",
       "17367           2018-06-18 00:00:00  eda25a6ff9d6be0d7a1af790acc458ff   \n",
       "21205           2018-04-06 00:00:00  637bacea784530377fec8b50b62a0a86   \n",
       "\n",
       "      review_score review_comment_title  \\\n",
       "39324            5                  NaN   \n",
       "29594            4                  NaN   \n",
       "39024            4                  NaN   \n",
       "17367            2                  NaN   \n",
       "21205            5                  NaN   \n",
       "\n",
       "                                  review_comment_message  \\\n",
       "39324                                                NaN   \n",
       "29594                                                NaN   \n",
       "39024  Bom produto. Atende as expectativas. Igual ao ...   \n",
       "17367                                                NaN   \n",
       "21205                                                NaN   \n",
       "\n",
       "       review_creation_date review_answer_timestamp seller_zip_code_prefix  \\\n",
       "39324   2018-05-17 00:00:00     2018-05-21 14:10:25                  15025   \n",
       "29594   2018-02-20 00:00:00     2018-02-20 22:21:04                  32604   \n",
       "39024   2017-08-09 00:00:00     2017-08-10 03:51:17                  15025   \n",
       "17367   2018-06-13 00:00:00     2018-06-15 09:30:12                   2215   \n",
       "21205   2018-03-28 00:00:00     2018-03-28 22:02:12                   4782   \n",
       "\n",
       "                 seller_city seller_state  \n",
       "39324  sao jose do rio preto           SP  \n",
       "29594                  betim           MG  \n",
       "39024  sao jose do rio preto           SP  \n",
       "17367              sao paulo           SP  \n",
       "21205              sao paulo           SP  \n",
       "\n",
       "[5 rows x 32 columns]"
      ]
     },
     "execution_count": 15,
     "metadata": {},
     "output_type": "execute_result"
    }
   ],
   "source": [
    "data_merge.sample(5)"
   ]
  },
  {
   "cell_type": "markdown",
   "metadata": {},
   "source": [
    "**Observasi:**  \n",
    "Saya menggabungkan 6 dataset untuk dapat dianalisa lebih lanjut. \n",
    "\n",
    "dataset yang saya gunakan sebagai berikut:\n",
    "- data_products\n",
    "- data_product_category_name\n",
    "- data_order_items\n",
    "- data_orders\n",
    "- data_order_reviews\n",
    "- data_sellers"
   ]
  },
  {
   "cell_type": "markdown",
   "metadata": {},
   "source": [
    "### Assessing Data"
   ]
  },
  {
   "cell_type": "code",
   "execution_count": 16,
   "metadata": {
    "tags": []
   },
   "outputs": [
    {
     "name": "stdout",
     "output_type": "stream",
     "text": [
      "<class 'pandas.core.frame.DataFrame'>\n",
      "RangeIndex: 110750 entries, 0 to 110749\n",
      "Data columns (total 32 columns):\n",
      " #   Column                         Non-Null Count   Dtype  \n",
      "---  ------                         --------------   -----  \n",
      " 0   product_id                     110750 non-null  object \n",
      " 1   product_category_name          110750 non-null  object \n",
      " 2   product_name_lenght            110750 non-null  float64\n",
      " 3   product_description_lenght     110750 non-null  float64\n",
      " 4   product_photos_qty             110750 non-null  float64\n",
      " 5   product_weight_g               110749 non-null  float64\n",
      " 6   product_length_cm              110749 non-null  float64\n",
      " 7   product_height_cm              110749 non-null  float64\n",
      " 8   product_width_cm               110749 non-null  float64\n",
      " 9   product_category_name_english  110750 non-null  object \n",
      " 10  order_id                       110750 non-null  object \n",
      " 11  order_item_id                  110750 non-null  int64  \n",
      " 12  seller_id                      110750 non-null  object \n",
      " 13  shipping_limit_date            110750 non-null  object \n",
      " 14  price                          110750 non-null  float64\n",
      " 15  freight_value                  110750 non-null  float64\n",
      " 16  customer_id                    110750 non-null  object \n",
      " 17  order_status                   110750 non-null  object \n",
      " 18  order_purchase_timestamp       110750 non-null  object \n",
      " 19  order_approved_at              110736 non-null  object \n",
      " 20  order_delivered_carrier_date   109605 non-null  object \n",
      " 21  order_delivered_customer_date  108457 non-null  object \n",
      " 22  order_estimated_delivery_date  110750 non-null  object \n",
      " 23  review_id                      110750 non-null  object \n",
      " 24  review_score                   110750 non-null  int64  \n",
      " 25  review_comment_title           13347 non-null   object \n",
      " 26  review_comment_message         46923 non-null   object \n",
      " 27  review_creation_date           110750 non-null  object \n",
      " 28  review_answer_timestamp        110750 non-null  object \n",
      " 29  seller_zip_code_prefix         110750 non-null  int64  \n",
      " 30  seller_city                    110750 non-null  object \n",
      " 31  seller_state                   110750 non-null  object \n",
      "dtypes: float64(9), int64(3), object(20)\n",
      "memory usage: 27.0+ MB\n"
     ]
    }
   ],
   "source": [
    "data_merge.info()"
   ]
  },
  {
   "cell_type": "markdown",
   "metadata": {},
   "source": [
    "##### Missing Value"
   ]
  },
  {
   "cell_type": "code",
   "execution_count": 17,
   "metadata": {
    "tags": []
   },
   "outputs": [
    {
     "data": {
      "text/plain": [
       "product_id                           0\n",
       "product_category_name                0\n",
       "product_name_lenght                  0\n",
       "product_description_lenght           0\n",
       "product_photos_qty                   0\n",
       "product_weight_g                     1\n",
       "product_length_cm                    1\n",
       "product_height_cm                    1\n",
       "product_width_cm                     1\n",
       "product_category_name_english        0\n",
       "order_id                             0\n",
       "order_item_id                        0\n",
       "seller_id                            0\n",
       "shipping_limit_date                  0\n",
       "price                                0\n",
       "freight_value                        0\n",
       "customer_id                          0\n",
       "order_status                         0\n",
       "order_purchase_timestamp             0\n",
       "order_approved_at                   14\n",
       "order_delivered_carrier_date      1145\n",
       "order_delivered_customer_date     2293\n",
       "order_estimated_delivery_date        0\n",
       "review_id                            0\n",
       "review_score                         0\n",
       "review_comment_title             97403\n",
       "review_comment_message           63827\n",
       "review_creation_date                 0\n",
       "review_answer_timestamp              0\n",
       "seller_zip_code_prefix               0\n",
       "seller_city                          0\n",
       "seller_state                         0\n",
       "dtype: int64"
      ]
     },
     "execution_count": 17,
     "metadata": {},
     "output_type": "execute_result"
    }
   ],
   "source": [
    "data_merge.isna().sum()"
   ]
  },
  {
   "cell_type": "markdown",
   "metadata": {},
   "source": [
    "**Observasi:**  \n",
    "Terdapat missing value pada dataset, sehingga perlu dilakukan cleanning data"
   ]
  },
  {
   "cell_type": "markdown",
   "metadata": {},
   "source": [
    "##### Duplicated"
   ]
  },
  {
   "cell_type": "code",
   "execution_count": 18,
   "metadata": {
    "tags": []
   },
   "outputs": [
    {
     "data": {
      "text/plain": [
       "0"
      ]
     },
     "execution_count": 18,
     "metadata": {},
     "output_type": "execute_result"
    }
   ],
   "source": [
    "data_merge.duplicated().sum()"
   ]
  },
  {
   "cell_type": "markdown",
   "metadata": {},
   "source": [
    "**Observasi:**  \n",
    "Tidak terdapat Duplicated pada dataset, sehingga tidak perlu dilakukan cleaning data"
   ]
  },
  {
   "cell_type": "markdown",
   "metadata": {},
   "source": [
    "##### Outlier"
   ]
  },
  {
   "cell_type": "code",
   "execution_count": 19,
   "metadata": {
    "tags": []
   },
   "outputs": [
    {
     "data": {
      "image/png": "[encoded data removed]",
      "text/plain": [
       "<Figure size 1600x800 with 12 Axes>"
      ]
     },
     "metadata": {},
     "output_type": "display_data"
    }
   ],
   "source": [
    "num_outlier = data_merge.select_dtypes(include=['int64', 'float64']).columns.tolist()\n",
    "\n",
    "plt.figure(figsize=(16, 8))\n",
    "for i in range(0,len(num_outlier)):\n",
    "    plt.subplot(1, len(num_outlier), i+1)\n",
    "    sns.boxplot(y=data_merge[num_outlier[i]], color='blue')\n",
    "    plt.tight_layout()"
   ]
  },
  {
   "cell_type": "markdown",
   "metadata": {},
   "source": [
    "**Observasi:**  \n",
    "Terdapat banyak data yang mengalami outliers, sehingga perlu dilakukan cleaning data"
   ]
  },
  {
   "cell_type": "markdown",
   "metadata": {},
   "source": [
    "### Cleaning Data"
   ]
  },
  {
   "cell_type": "markdown",
   "metadata": {},
   "source": [
    "##### Missing Value"
   ]
  },
  {
   "cell_type": "code",
   "execution_count": 20,
   "metadata": {
    "tags": []
   },
   "outputs": [
    {
     "data": {
      "text/plain": [
       "product_id                           0\n",
       "product_category_name                0\n",
       "product_name_lenght                  0\n",
       "product_description_lenght           0\n",
       "product_photos_qty                   0\n",
       "product_weight_g                     1\n",
       "product_length_cm                    1\n",
       "product_height_cm                    1\n",
       "product_width_cm                     1\n",
       "product_category_name_english        0\n",
       "order_id                             0\n",
       "order_item_id                        0\n",
       "seller_id                            0\n",
       "shipping_limit_date                  0\n",
       "price                                0\n",
       "freight_value                        0\n",
       "customer_id                          0\n",
       "order_status                         0\n",
       "order_purchase_timestamp             0\n",
       "order_approved_at                   14\n",
       "order_delivered_carrier_date      1145\n",
       "order_delivered_customer_date     2293\n",
       "order_estimated_delivery_date        0\n",
       "review_id                            0\n",
       "review_score                         0\n",
       "review_comment_title             97403\n",
       "review_comment_message           63827\n",
       "review_creation_date                 0\n",
       "review_answer_timestamp              0\n",
       "seller_zip_code_prefix               0\n",
       "seller_city                          0\n",
       "seller_state                         0\n",
       "dtype: int64"
      ]
     },
     "execution_count": 20,
     "metadata": {},
     "output_type": "execute_result"
    }
   ],
   "source": [
    "data_merge.isna().sum()"
   ]
  },
  {
   "cell_type": "code",
   "execution_count": 21,
   "metadata": {
    "tags": []
   },
   "outputs": [],
   "source": [
    "# Handle Missing Value untuk Tipe data object\n",
    "\n",
    "cat_missing_value = ['order_approved_at', 'order_delivered_carrier_date', 'order_delivered_customer_date', 'review_comment_title', 'review_comment_message']\n",
    "\n",
    "for col in cat_missing_value:\n",
    "    data_merge[col].fillna(data_merge[col].mode()[0], inplace=True)"
   ]
  },
  {
   "cell_type": "code",
   "execution_count": 22,
   "metadata": {
    "tags": []
   },
   "outputs": [],
   "source": [
    "# Handle Missing Value untuk Tipe data numeric\n",
    "\n",
    "num_missing_value = ['product_weight_g', 'product_length_cm', 'product_height_cm', 'product_width_cm']\n",
    "\n",
    "for col in num_missing_value:\n",
    "    data_merge[col].fillna(data_merge[col].mean(), inplace=True)"
   ]
  },
  {
   "cell_type": "code",
   "execution_count": 23,
   "metadata": {
    "tags": []
   },
   "outputs": [
    {
     "data": {
      "text/plain": [
       "product_id                       0\n",
       "product_category_name            0\n",
       "product_name_lenght              0\n",
       "product_description_lenght       0\n",
       "product_photos_qty               0\n",
       "product_weight_g                 0\n",
       "product_length_cm                0\n",
       "product_height_cm                0\n",
       "product_width_cm                 0\n",
       "product_category_name_english    0\n",
       "order_id                         0\n",
       "order_item_id                    0\n",
       "seller_id                        0\n",
       "shipping_limit_date              0\n",
       "price                            0\n",
       "freight_value                    0\n",
       "customer_id                      0\n",
       "order_status                     0\n",
       "order_purchase_timestamp         0\n",
       "order_approved_at                0\n",
       "order_delivered_carrier_date     0\n",
       "order_delivered_customer_date    0\n",
       "order_estimated_delivery_date    0\n",
       "review_id                        0\n",
       "review_score                     0\n",
       "review_comment_title             0\n",
       "review_comment_message           0\n",
       "review_creation_date             0\n",
       "review_answer_timestamp          0\n",
       "seller_zip_code_prefix           0\n",
       "seller_city                      0\n",
       "seller_state                     0\n",
       "dtype: int64"
      ]
     },
     "execution_count": 23,
     "metadata": {},
     "output_type": "execute_result"
    }
   ],
   "source": [
    "data_merge.isna().sum()"
   ]
  },
  {
   "cell_type": "markdown",
   "metadata": {},
   "source": [
    "**Observasi:**  \n",
    "- Menggunakan fillna() untuk mengganti nilai yang missing value dengan nilai tertentu. \n",
    "- Menggunakan mode() untuk nilai yang bertipe data kategorik\n",
    "- Menggunakan mean() untuk nilai yang bertipe data numerik"
   ]
  },
  {
   "cell_type": "markdown",
   "metadata": {},
   "source": [
    "##### Outlier"
   ]
  },
  {
   "cell_type": "code",
   "execution_count": 24,
   "metadata": {
    "tags": []
   },
   "outputs": [
    {
     "data": {
      "image/png": "[encoded data removed]",
      "text/plain": [
       "<Figure size 1600x800 with 10 Axes>"
      ]
     },
     "metadata": {},
     "output_type": "display_data"
    }
   ],
   "source": [
    "num_outlier = data_merge.select_dtypes(include=['int64', 'float64']).columns.tolist()\n",
    "\n",
    "plt.figure(figsize=(16, 8))\n",
    "for i in range(2,len(num_outlier)):\n",
    "    plt.subplot(1, len(num_outlier), i+1)\n",
    "    sns.boxplot(y=data_merge[num_outlier[i]], color='blue')\n",
    "    plt.tight_layout()"
   ]
  },
  {
   "cell_type": "code",
   "execution_count": 25,
   "metadata": {
    "tags": []
   },
   "outputs": [
    {
     "name": "stdout",
     "output_type": "stream",
     "text": [
      "Jumlah baris sebelum memfilter outlier: 110750\n"
     ]
    },
    {
     "name": "stdout",
     "output_type": "stream",
     "text": [
      "Jumlah baris setelah memfilter outlier 93580\n"
     ]
    }
   ],
   "source": [
    "# Handling outliers dengan IQR\n",
    "print(f'Jumlah baris sebelum memfilter outlier: {len(data_merge[num_outlier])}')\n",
    "\n",
    "for col in data_merge[num_outlier]:\n",
    "    Q1 = data_merge[col].quantile(0.25)\n",
    "    Q3 = data_merge[col].quantile(0.75)\n",
    "    IQR = Q3 - Q1\n",
    "    lower_limit = Q1 - (IQR * 1.5)\n",
    "    upper_limit = Q3 + (IQR * 1.5)\n",
    "\n",
    "    filtered_ouliers = ((data_merge[col] >= lower_limit) & (data_merge[col] <= upper_limit))\n",
    "\n",
    "data_clean = data_merge[filtered_ouliers]\n",
    "\n",
    "print('Jumlah baris setelah memfilter outlier', len(data_clean))"
   ]
  },
  {
   "cell_type": "markdown",
   "metadata": {},
   "source": [
    "**Observasi:**  \n",
    "- Menggunakan metode IQR untuk melakukan handle outlier\n",
    "- Jumlah baris sebelum memfilter outlier terdapat 110750, kemudian jumlah baris berkurang menjadi 93580. karena metode IQR menghapus seluruh baris yang mengalamin outlier."
   ]
  },
  {
   "cell_type": "markdown",
   "metadata": {},
   "source": [
    "## Exploratory Data Analysis (EDA)"
   ]
  },
  {
   "cell_type": "code",
   "execution_count": 26,
   "metadata": {
    "tags": []
   },
   "outputs": [
    {
     "name": "stdout",
     "output_type": "stream",
     "text": [
      "<class 'pandas.core.frame.DataFrame'>\n",
      "Index: 93580 entries, 0 to 110746\n",
      "Data columns (total 32 columns):\n",
      " #   Column                         Non-Null Count  Dtype  \n",
      "---  ------                         --------------  -----  \n",
      " 0   product_id                     93580 non-null  object \n",
      " 1   product_category_name          93580 non-null  object \n",
      " 2   product_name_lenght            93580 non-null  float64\n",
      " 3   product_description_lenght     93580 non-null  float64\n",
      " 4   product_photos_qty             93580 non-null  float64\n",
      " 5   product_weight_g               93580 non-null  float64\n",
      " 6   product_length_cm              93580 non-null  float64\n",
      " 7   product_height_cm              93580 non-null  float64\n",
      " 8   product_width_cm               93580 non-null  float64\n",
      " 9   product_category_name_english  93580 non-null  object \n",
      " 10  order_id                       93580 non-null  object \n",
      " 11  order_item_id                  93580 non-null  int64  \n",
      " 12  seller_id                      93580 non-null  object \n",
      " 13  shipping_limit_date            93580 non-null  object \n",
      " 14  price                          93580 non-null  float64\n",
      " 15  freight_value                  93580 non-null  float64\n",
      " 16  customer_id                    93580 non-null  object \n",
      " 17  order_status                   93580 non-null  object \n",
      " 18  order_purchase_timestamp       93580 non-null  object \n",
      " 19  order_approved_at              93580 non-null  object \n",
      " 20  order_delivered_carrier_date   93580 non-null  object \n",
      " 21  order_delivered_customer_date  93580 non-null  object \n",
      " 22  order_estimated_delivery_date  93580 non-null  object \n",
      " 23  review_id                      93580 non-null  object \n",
      " 24  review_score                   93580 non-null  int64  \n",
      " 25  review_comment_title           93580 non-null  object \n",
      " 26  review_comment_message         93580 non-null  object \n",
      " 27  review_creation_date           93580 non-null  object \n",
      " 28  review_answer_timestamp        93580 non-null  object \n",
      " 29  seller_zip_code_prefix         93580 non-null  int64  \n",
      " 30  seller_city                    93580 non-null  object \n",
      " 31  seller_state                   93580 non-null  object \n",
      "dtypes: float64(9), int64(3), object(20)\n",
      "memory usage: 23.6+ MB\n"
     ]
    }
   ],
   "source": [
    "data_clean.info()"
   ]
  },
  {
   "cell_type": "code",
   "execution_count": 27,
   "metadata": {
    "tags": []
   },
   "outputs": [],
   "source": [
    "cat = data_clean.select_dtypes(include=['object']).columns.tolist()\n",
    "num = data_clean.select_dtypes(include=['int64', 'float64']).columns.tolist()"
   ]
  },
  {
   "cell_type": "markdown",
   "metadata": {},
   "source": [
    "**Observasi:**  \n",
    "Membuat pengelompokan berdasarkan tipe data numerik dan kategorik agar dapat mempermudah melakukan analisis data"
   ]
  },
  {
   "cell_type": "markdown",
   "metadata": {},
   "source": [
    "##### Mengeksplorasi Parameter Statistik"
   ]
  },
  {
   "cell_type": "code",
   "execution_count": 28,
   "metadata": {
    "tags": []
   },
   "outputs": [
    {
     "data": {
      "text/html": [
       "<div>\n",
       "<style scoped>\n",
       "    .dataframe tbody tr th:only-of-type {\n",
       "        vertical-align: middle;\n",
       "    }\n",
       "\n",
       "    .dataframe tbody tr th {\n",
       "        vertical-align: top;\n",
       "    }\n",
       "\n",
       "    .dataframe thead th {\n",
       "        text-align: right;\n",
       "    }\n",
       "</style>\n",
       "<table border=\"1\" class=\"dataframe\">\n",
       "  <thead>\n",
       "    <tr style=\"text-align: right;\">\n",
       "      <th></th>\n",
       "      <th>product_id</th>\n",
       "      <th>product_category_name</th>\n",
       "      <th>product_category_name_english</th>\n",
       "      <th>order_id</th>\n",
       "      <th>seller_id</th>\n",
       "      <th>shipping_limit_date</th>\n",
       "      <th>customer_id</th>\n",
       "      <th>order_status</th>\n",
       "      <th>order_purchase_timestamp</th>\n",
       "      <th>order_approved_at</th>\n",
       "      <th>order_delivered_carrier_date</th>\n",
       "      <th>order_delivered_customer_date</th>\n",
       "      <th>order_estimated_delivery_date</th>\n",
       "      <th>review_id</th>\n",
       "      <th>review_comment_title</th>\n",
       "      <th>review_comment_message</th>\n",
       "      <th>review_creation_date</th>\n",
       "      <th>review_answer_timestamp</th>\n",
       "      <th>seller_city</th>\n",
       "      <th>seller_state</th>\n",
       "    </tr>\n",
       "  </thead>\n",
       "  <tbody>\n",
       "    <tr>\n",
       "      <th>count</th>\n",
       "      <td>93580</td>\n",
       "      <td>93580</td>\n",
       "      <td>93580</td>\n",
       "      <td>93580</td>\n",
       "      <td>93580</td>\n",
       "      <td>93580</td>\n",
       "      <td>93580</td>\n",
       "      <td>93580</td>\n",
       "      <td>93580</td>\n",
       "      <td>93580</td>\n",
       "      <td>93580</td>\n",
       "      <td>93580</td>\n",
       "      <td>93580</td>\n",
       "      <td>93580</td>\n",
       "      <td>93580</td>\n",
       "      <td>93580</td>\n",
       "      <td>93580</td>\n",
       "      <td>93580</td>\n",
       "      <td>93580</td>\n",
       "      <td>93580</td>\n",
       "    </tr>\n",
       "    <tr>\n",
       "      <th>unique</th>\n",
       "      <td>26570</td>\n",
       "      <td>71</td>\n",
       "      <td>71</td>\n",
       "      <td>81503</td>\n",
       "      <td>2262</td>\n",
       "      <td>77739</td>\n",
       "      <td>81503</td>\n",
       "      <td>7</td>\n",
       "      <td>81090</td>\n",
       "      <td>75484</td>\n",
       "      <td>67300</td>\n",
       "      <td>79183</td>\n",
       "      <td>443</td>\n",
       "      <td>81404</td>\n",
       "      <td>3915</td>\n",
       "      <td>30173</td>\n",
       "      <td>624</td>\n",
       "      <td>81278</td>\n",
       "      <td>389</td>\n",
       "      <td>10</td>\n",
       "    </tr>\n",
       "    <tr>\n",
       "      <th>top</th>\n",
       "      <td>aca2eb7d00ea1a7b8ebd4e68314663af</td>\n",
       "      <td>cama_mesa_banho</td>\n",
       "      <td>bed_bath_table</td>\n",
       "      <td>5a3b1c29a49756e75f1ef513383c0c12</td>\n",
       "      <td>6560211a19b47992c3666cc44a7e94c0</td>\n",
       "      <td>2017-10-24 13:06:21</td>\n",
       "      <td>be1c4e52bb71e0c54b11a26b8e8d59f2</td>\n",
       "      <td>delivered</td>\n",
       "      <td>2017-10-17 13:06:29</td>\n",
       "      <td>2018-02-24 03:20:27</td>\n",
       "      <td>2018-05-09 15:48:00</td>\n",
       "      <td>2017-10-22 14:43:54</td>\n",
       "      <td>2017-12-20 00:00:00</td>\n",
       "      <td>e8236fe7b6e1bdd513a500de361e2b87</td>\n",
       "      <td>Recomendo</td>\n",
       "      <td>Muito bom</td>\n",
       "      <td>2017-12-19 00:00:00</td>\n",
       "      <td>2017-07-30 14:19:07</td>\n",
       "      <td>sao paulo</td>\n",
       "      <td>SP</td>\n",
       "    </tr>\n",
       "    <tr>\n",
       "      <th>freq</th>\n",
       "      <td>524</td>\n",
       "      <td>10286</td>\n",
       "      <td>10286</td>\n",
       "      <td>22</td>\n",
       "      <td>2020</td>\n",
       "      <td>22</td>\n",
       "      <td>22</td>\n",
       "      <td>91598</td>\n",
       "      <td>22</td>\n",
       "      <td>35</td>\n",
       "      <td>1018</td>\n",
       "      <td>2005</td>\n",
       "      <td>524</td>\n",
       "      <td>21</td>\n",
       "      <td>82602</td>\n",
       "      <td>53775</td>\n",
       "      <td>432</td>\n",
       "      <td>21</td>\n",
       "      <td>27646</td>\n",
       "      <td>78687</td>\n",
       "    </tr>\n",
       "  </tbody>\n",
       "</table>\n",
       "</div>"
      ],
      "text/plain": [
       "                              product_id product_category_name  \\\n",
       "count                              93580                 93580   \n",
       "unique                             26570                    71   \n",
       "top     aca2eb7d00ea1a7b8ebd4e68314663af       cama_mesa_banho   \n",
       "freq                                 524                 10286   \n",
       "\n",
       "       product_category_name_english                          order_id  \\\n",
       "count                          93580                             93580   \n",
       "unique                            71                             81503   \n",
       "top                   bed_bath_table  5a3b1c29a49756e75f1ef513383c0c12   \n",
       "freq                           10286                                22   \n",
       "\n",
       "                               seller_id  shipping_limit_date  \\\n",
       "count                              93580                93580   \n",
       "unique                              2262                77739   \n",
       "top     6560211a19b47992c3666cc44a7e94c0  2017-10-24 13:06:21   \n",
       "freq                                2020                   22   \n",
       "\n",
       "                             customer_id order_status  \\\n",
       "count                              93580        93580   \n",
       "unique                             81503            7   \n",
       "top     be1c4e52bb71e0c54b11a26b8e8d59f2    delivered   \n",
       "freq                                  22        91598   \n",
       "\n",
       "       order_purchase_timestamp    order_approved_at  \\\n",
       "count                     93580                93580   \n",
       "unique                    81090                75484   \n",
       "top         2017-10-17 13:06:29  2018-02-24 03:20:27   \n",
       "freq                         22                   35   \n",
       "\n",
       "       order_delivered_carrier_date order_delivered_customer_date  \\\n",
       "count                         93580                         93580   \n",
       "unique                        67300                         79183   \n",
       "top             2018-05-09 15:48:00           2017-10-22 14:43:54   \n",
       "freq                           1018                          2005   \n",
       "\n",
       "       order_estimated_delivery_date                         review_id  \\\n",
       "count                          93580                             93580   \n",
       "unique                           443                             81404   \n",
       "top              2017-12-20 00:00:00  e8236fe7b6e1bdd513a500de361e2b87   \n",
       "freq                             524                                21   \n",
       "\n",
       "       review_comment_title review_comment_message review_creation_date  \\\n",
       "count                 93580                  93580                93580   \n",
       "unique                 3915                  30173                  624   \n",
       "top               Recomendo              Muito bom  2017-12-19 00:00:00   \n",
       "freq                  82602                  53775                  432   \n",
       "\n",
       "       review_answer_timestamp seller_city seller_state  \n",
       "count                    93580       93580        93580  \n",
       "unique                   81278         389           10  \n",
       "top        2017-07-30 14:19:07   sao paulo           SP  \n",
       "freq                        21       27646        78687  "
      ]
     },
     "execution_count": 28,
     "metadata": {},
     "output_type": "execute_result"
    }
   ],
   "source": [
    "# Metode describe() untuk data yang bertipe kategorik\n",
    "\n",
    "data_clean[cat].describe()"
   ]
  },
  {
   "cell_type": "code",
   "execution_count": 29,
   "metadata": {},
   "outputs": [
    {
     "data": {
      "text/html": [
       "<div>\n",
       "<style scoped>\n",
       "    .dataframe tbody tr th:only-of-type {\n",
       "        vertical-align: middle;\n",
       "    }\n",
       "\n",
       "    .dataframe tbody tr th {\n",
       "        vertical-align: top;\n",
       "    }\n",
       "\n",
       "    .dataframe thead th {\n",
       "        text-align: right;\n",
       "    }\n",
       "</style>\n",
       "<table border=\"1\" class=\"dataframe\">\n",
       "  <thead>\n",
       "    <tr style=\"text-align: right;\">\n",
       "      <th></th>\n",
       "      <th>product_name_lenght</th>\n",
       "      <th>product_description_lenght</th>\n",
       "      <th>product_photos_qty</th>\n",
       "      <th>product_weight_g</th>\n",
       "      <th>product_length_cm</th>\n",
       "      <th>product_height_cm</th>\n",
       "      <th>product_width_cm</th>\n",
       "      <th>order_item_id</th>\n",
       "      <th>price</th>\n",
       "      <th>freight_value</th>\n",
       "      <th>review_score</th>\n",
       "      <th>seller_zip_code_prefix</th>\n",
       "    </tr>\n",
       "  </thead>\n",
       "  <tbody>\n",
       "    <tr>\n",
       "      <th>count</th>\n",
       "      <td>93580.000000</td>\n",
       "      <td>93580.000000</td>\n",
       "      <td>93580.000000</td>\n",
       "      <td>93580.000000</td>\n",
       "      <td>93580.000000</td>\n",
       "      <td>93580.000000</td>\n",
       "      <td>93580.000000</td>\n",
       "      <td>93580.000000</td>\n",
       "      <td>93580.000000</td>\n",
       "      <td>93580.000000</td>\n",
       "      <td>93580.000000</td>\n",
       "      <td>93580.000000</td>\n",
       "    </tr>\n",
       "    <tr>\n",
       "      <th>mean</th>\n",
       "      <td>48.895309</td>\n",
       "      <td>774.217557</td>\n",
       "      <td>2.227944</td>\n",
       "      <td>2113.875155</td>\n",
       "      <td>30.028190</td>\n",
       "      <td>16.552928</td>\n",
       "      <td>23.279515</td>\n",
       "      <td>1.200524</td>\n",
       "      <td>115.860476</td>\n",
       "      <td>19.257272</td>\n",
       "      <td>4.023146</td>\n",
       "      <td>13402.199904</td>\n",
       "    </tr>\n",
       "    <tr>\n",
       "      <th>std</th>\n",
       "      <td>9.946923</td>\n",
       "      <td>647.542429</td>\n",
       "      <td>1.730013</td>\n",
       "      <td>3769.221970</td>\n",
       "      <td>15.673965</td>\n",
       "      <td>13.638723</td>\n",
       "      <td>11.777088</td>\n",
       "      <td>0.705129</td>\n",
       "      <td>178.711452</td>\n",
       "      <td>15.104995</td>\n",
       "      <td>1.391744</td>\n",
       "      <td>10058.736641</td>\n",
       "    </tr>\n",
       "    <tr>\n",
       "      <th>min</th>\n",
       "      <td>5.000000</td>\n",
       "      <td>4.000000</td>\n",
       "      <td>1.000000</td>\n",
       "      <td>0.000000</td>\n",
       "      <td>7.000000</td>\n",
       "      <td>2.000000</td>\n",
       "      <td>6.000000</td>\n",
       "      <td>1.000000</td>\n",
       "      <td>0.850000</td>\n",
       "      <td>0.000000</td>\n",
       "      <td>1.000000</td>\n",
       "      <td>1001.000000</td>\n",
       "    </tr>\n",
       "    <tr>\n",
       "      <th>25%</th>\n",
       "      <td>42.000000</td>\n",
       "      <td>345.000000</td>\n",
       "      <td>1.000000</td>\n",
       "      <td>300.000000</td>\n",
       "      <td>18.000000</td>\n",
       "      <td>8.000000</td>\n",
       "      <td>15.000000</td>\n",
       "      <td>1.000000</td>\n",
       "      <td>39.000000</td>\n",
       "      <td>12.690000</td>\n",
       "      <td>4.000000</td>\n",
       "      <td>5141.000000</td>\n",
       "    </tr>\n",
       "    <tr>\n",
       "      <th>50%</th>\n",
       "      <td>52.000000</td>\n",
       "      <td>591.000000</td>\n",
       "      <td>2.000000</td>\n",
       "      <td>700.000000</td>\n",
       "      <td>25.000000</td>\n",
       "      <td>13.000000</td>\n",
       "      <td>20.000000</td>\n",
       "      <td>1.000000</td>\n",
       "      <td>69.900000</td>\n",
       "      <td>15.880000</td>\n",
       "      <td>5.000000</td>\n",
       "      <td>13170.000000</td>\n",
       "    </tr>\n",
       "    <tr>\n",
       "      <th>75%</th>\n",
       "      <td>57.000000</td>\n",
       "      <td>956.000000</td>\n",
       "      <td>3.000000</td>\n",
       "      <td>1800.000000</td>\n",
       "      <td>38.000000</td>\n",
       "      <td>20.000000</td>\n",
       "      <td>30.000000</td>\n",
       "      <td>1.000000</td>\n",
       "      <td>129.900000</td>\n",
       "      <td>20.190000</td>\n",
       "      <td>5.000000</td>\n",
       "      <td>14940.000000</td>\n",
       "    </tr>\n",
       "    <tr>\n",
       "      <th>max</th>\n",
       "      <td>76.000000</td>\n",
       "      <td>3992.000000</td>\n",
       "      <td>20.000000</td>\n",
       "      <td>40425.000000</td>\n",
       "      <td>105.000000</td>\n",
       "      <td>105.000000</td>\n",
       "      <td>118.000000</td>\n",
       "      <td>21.000000</td>\n",
       "      <td>6735.000000</td>\n",
       "      <td>375.280000</td>\n",
       "      <td>5.000000</td>\n",
       "      <td>60741.000000</td>\n",
       "    </tr>\n",
       "  </tbody>\n",
       "</table>\n",
       "</div>"
      ],
      "text/plain": [
       "       product_name_lenght  product_description_lenght  product_photos_qty  \\\n",
       "count         93580.000000                93580.000000        93580.000000   \n",
       "mean             48.895309                  774.217557            2.227944   \n",
       "std               9.946923                  647.542429            1.730013   \n",
       "min               5.000000                    4.000000            1.000000   \n",
       "25%              42.000000                  345.000000            1.000000   \n",
       "50%              52.000000                  591.000000            2.000000   \n",
       "75%              57.000000                  956.000000            3.000000   \n",
       "max              76.000000                 3992.000000           20.000000   \n",
       "\n",
       "       product_weight_g  product_length_cm  product_height_cm  \\\n",
       "count      93580.000000       93580.000000       93580.000000   \n",
       "mean        2113.875155          30.028190          16.552928   \n",
       "std         3769.221970          15.673965          13.638723   \n",
       "min            0.000000           7.000000           2.000000   \n",
       "25%          300.000000          18.000000           8.000000   \n",
       "50%          700.000000          25.000000          13.000000   \n",
       "75%         1800.000000          38.000000          20.000000   \n",
       "max        40425.000000         105.000000         105.000000   \n",
       "\n",
       "       product_width_cm  order_item_id         price  freight_value  \\\n",
       "count      93580.000000   93580.000000  93580.000000   93580.000000   \n",
       "mean          23.279515       1.200524    115.860476      19.257272   \n",
       "std           11.777088       0.705129    178.711452      15.104995   \n",
       "min            6.000000       1.000000      0.850000       0.000000   \n",
       "25%           15.000000       1.000000     39.000000      12.690000   \n",
       "50%           20.000000       1.000000     69.900000      15.880000   \n",
       "75%           30.000000       1.000000    129.900000      20.190000   \n",
       "max          118.000000      21.000000   6735.000000     375.280000   \n",
       "\n",
       "       review_score  seller_zip_code_prefix  \n",
       "count  93580.000000            93580.000000  \n",
       "mean       4.023146            13402.199904  \n",
       "std        1.391744            10058.736641  \n",
       "min        1.000000             1001.000000  \n",
       "25%        4.000000             5141.000000  \n",
       "50%        5.000000            13170.000000  \n",
       "75%        5.000000            14940.000000  \n",
       "max        5.000000            60741.000000  "
      ]
     },
     "execution_count": 29,
     "metadata": {},
     "output_type": "execute_result"
    }
   ],
   "source": [
    "# Menggunakan metode describe() untuk data yang bertipe numerik\n",
    "\n",
    "data_clean[num].describe()"
   ]
  },
  {
   "cell_type": "code",
   "execution_count": 30,
   "metadata": {},
   "outputs": [
    {
     "data": {
      "text/html": [
       "<div>\n",
       "<style scoped>\n",
       "    .dataframe tbody tr th:only-of-type {\n",
       "        vertical-align: middle;\n",
       "    }\n",
       "\n",
       "    .dataframe tbody tr th {\n",
       "        vertical-align: top;\n",
       "    }\n",
       "\n",
       "    .dataframe thead th {\n",
       "        text-align: right;\n",
       "    }\n",
       "</style>\n",
       "<table border=\"1\" class=\"dataframe\">\n",
       "  <thead>\n",
       "    <tr style=\"text-align: right;\">\n",
       "      <th></th>\n",
       "      <th>product_name_lenght</th>\n",
       "      <th>product_description_lenght</th>\n",
       "      <th>product_photos_qty</th>\n",
       "      <th>product_weight_g</th>\n",
       "      <th>product_length_cm</th>\n",
       "      <th>product_height_cm</th>\n",
       "      <th>product_width_cm</th>\n",
       "      <th>order_item_id</th>\n",
       "      <th>price</th>\n",
       "      <th>freight_value</th>\n",
       "      <th>review_score</th>\n",
       "      <th>seller_zip_code_prefix</th>\n",
       "    </tr>\n",
       "  </thead>\n",
       "  <tbody>\n",
       "    <tr>\n",
       "      <th>product_name_lenght</th>\n",
       "      <td>1.000000</td>\n",
       "      <td>0.077151</td>\n",
       "      <td>0.157738</td>\n",
       "      <td>0.009604</td>\n",
       "      <td>0.062056</td>\n",
       "      <td>-0.036213</td>\n",
       "      <td>0.058908</td>\n",
       "      <td>-0.021284</td>\n",
       "      <td>0.012958</td>\n",
       "      <td>0.018647</td>\n",
       "      <td>-0.006972</td>\n",
       "      <td>-0.017243</td>\n",
       "    </tr>\n",
       "    <tr>\n",
       "      <th>product_description_lenght</th>\n",
       "      <td>0.077151</td>\n",
       "      <td>1.000000</td>\n",
       "      <td>0.108513</td>\n",
       "      <td>0.055872</td>\n",
       "      <td>-0.015678</td>\n",
       "      <td>0.075912</td>\n",
       "      <td>-0.081569</td>\n",
       "      <td>-0.009354</td>\n",
       "      <td>0.192724</td>\n",
       "      <td>0.089480</td>\n",
       "      <td>0.009803</td>\n",
       "      <td>0.062148</td>\n",
       "    </tr>\n",
       "    <tr>\n",
       "      <th>product_photos_qty</th>\n",
       "      <td>0.157738</td>\n",
       "      <td>0.108513</td>\n",
       "      <td>1.000000</td>\n",
       "      <td>0.000274</td>\n",
       "      <td>0.019331</td>\n",
       "      <td>-0.047546</td>\n",
       "      <td>-0.021649</td>\n",
       "      <td>-0.055200</td>\n",
       "      <td>0.046581</td>\n",
       "      <td>0.007356</td>\n",
       "      <td>0.019299</td>\n",
       "      <td>-0.069707</td>\n",
       "    </tr>\n",
       "    <tr>\n",
       "      <th>product_weight_g</th>\n",
       "      <td>0.009604</td>\n",
       "      <td>0.055872</td>\n",
       "      <td>0.000274</td>\n",
       "      <td>1.000000</td>\n",
       "      <td>0.457546</td>\n",
       "      <td>0.589986</td>\n",
       "      <td>0.498532</td>\n",
       "      <td>0.005050</td>\n",
       "      <td>0.327389</td>\n",
       "      <td>0.619752</td>\n",
       "      <td>-0.035415</td>\n",
       "      <td>0.052578</td>\n",
       "    </tr>\n",
       "    <tr>\n",
       "      <th>product_length_cm</th>\n",
       "      <td>0.062056</td>\n",
       "      <td>-0.015678</td>\n",
       "      <td>0.019331</td>\n",
       "      <td>0.457546</td>\n",
       "      <td>1.000000</td>\n",
       "      <td>0.202565</td>\n",
       "      <td>0.556731</td>\n",
       "      <td>0.015827</td>\n",
       "      <td>0.133344</td>\n",
       "      <td>0.303955</td>\n",
       "      <td>-0.029388</td>\n",
       "      <td>0.008833</td>\n",
       "    </tr>\n",
       "    <tr>\n",
       "      <th>product_height_cm</th>\n",
       "      <td>-0.036213</td>\n",
       "      <td>0.075912</td>\n",
       "      <td>-0.047546</td>\n",
       "      <td>0.589986</td>\n",
       "      <td>0.202565</td>\n",
       "      <td>1.000000</td>\n",
       "      <td>0.273884</td>\n",
       "      <td>0.039466</td>\n",
       "      <td>0.218138</td>\n",
       "      <td>0.392983</td>\n",
       "      <td>-0.033376</td>\n",
       "      <td>-0.002437</td>\n",
       "    </tr>\n",
       "    <tr>\n",
       "      <th>product_width_cm</th>\n",
       "      <td>0.058908</td>\n",
       "      <td>-0.081569</td>\n",
       "      <td>-0.021649</td>\n",
       "      <td>0.498532</td>\n",
       "      <td>0.556731</td>\n",
       "      <td>0.273884</td>\n",
       "      <td>1.000000</td>\n",
       "      <td>-0.004436</td>\n",
       "      <td>0.168108</td>\n",
       "      <td>0.330388</td>\n",
       "      <td>-0.015394</td>\n",
       "      <td>0.068813</td>\n",
       "    </tr>\n",
       "    <tr>\n",
       "      <th>order_item_id</th>\n",
       "      <td>-0.021284</td>\n",
       "      <td>-0.009354</td>\n",
       "      <td>-0.055200</td>\n",
       "      <td>0.005050</td>\n",
       "      <td>0.015827</td>\n",
       "      <td>0.039466</td>\n",
       "      <td>-0.004436</td>\n",
       "      <td>1.000000</td>\n",
       "      <td>-0.059440</td>\n",
       "      <td>-0.017888</td>\n",
       "      <td>-0.133298</td>\n",
       "      <td>-0.021138</td>\n",
       "    </tr>\n",
       "    <tr>\n",
       "      <th>price</th>\n",
       "      <td>0.012958</td>\n",
       "      <td>0.192724</td>\n",
       "      <td>0.046581</td>\n",
       "      <td>0.327389</td>\n",
       "      <td>0.133344</td>\n",
       "      <td>0.218138</td>\n",
       "      <td>0.168108</td>\n",
       "      <td>-0.059440</td>\n",
       "      <td>1.000000</td>\n",
       "      <td>0.395060</td>\n",
       "      <td>-0.004074</td>\n",
       "      <td>0.096161</td>\n",
       "    </tr>\n",
       "    <tr>\n",
       "      <th>freight_value</th>\n",
       "      <td>0.018647</td>\n",
       "      <td>0.089480</td>\n",
       "      <td>0.007356</td>\n",
       "      <td>0.619752</td>\n",
       "      <td>0.303955</td>\n",
       "      <td>0.392983</td>\n",
       "      <td>0.330388</td>\n",
       "      <td>-0.017888</td>\n",
       "      <td>0.395060</td>\n",
       "      <td>1.000000</td>\n",
       "      <td>-0.045826</td>\n",
       "      <td>0.149131</td>\n",
       "    </tr>\n",
       "    <tr>\n",
       "      <th>review_score</th>\n",
       "      <td>-0.006972</td>\n",
       "      <td>0.009803</td>\n",
       "      <td>0.019299</td>\n",
       "      <td>-0.035415</td>\n",
       "      <td>-0.029388</td>\n",
       "      <td>-0.033376</td>\n",
       "      <td>-0.015394</td>\n",
       "      <td>-0.133298</td>\n",
       "      <td>-0.004074</td>\n",
       "      <td>-0.045826</td>\n",
       "      <td>1.000000</td>\n",
       "      <td>0.018341</td>\n",
       "    </tr>\n",
       "    <tr>\n",
       "      <th>seller_zip_code_prefix</th>\n",
       "      <td>-0.017243</td>\n",
       "      <td>0.062148</td>\n",
       "      <td>-0.069707</td>\n",
       "      <td>0.052578</td>\n",
       "      <td>0.008833</td>\n",
       "      <td>-0.002437</td>\n",
       "      <td>0.068813</td>\n",
       "      <td>-0.021138</td>\n",
       "      <td>0.096161</td>\n",
       "      <td>0.149131</td>\n",
       "      <td>0.018341</td>\n",
       "      <td>1.000000</td>\n",
       "    </tr>\n",
       "  </tbody>\n",
       "</table>\n",
       "</div>"
      ],
      "text/plain": [
       "                            product_name_lenght  product_description_lenght  \\\n",
       "product_name_lenght                    1.000000                    0.077151   \n",
       "product_description_lenght             0.077151                    1.000000   \n",
       "product_photos_qty                     0.157738                    0.108513   \n",
       "product_weight_g                       0.009604                    0.055872   \n",
       "product_length_cm                      0.062056                   -0.015678   \n",
       "product_height_cm                     -0.036213                    0.075912   \n",
       "product_width_cm                       0.058908                   -0.081569   \n",
       "order_item_id                         -0.021284                   -0.009354   \n",
       "price                                  0.012958                    0.192724   \n",
       "freight_value                          0.018647                    0.089480   \n",
       "review_score                          -0.006972                    0.009803   \n",
       "seller_zip_code_prefix                -0.017243                    0.062148   \n",
       "\n",
       "                            product_photos_qty  product_weight_g  \\\n",
       "product_name_lenght                   0.157738          0.009604   \n",
       "product_description_lenght            0.108513          0.055872   \n",
       "product_photos_qty                    1.000000          0.000274   \n",
       "product_weight_g                      0.000274          1.000000   \n",
       "product_length_cm                     0.019331          0.457546   \n",
       "product_height_cm                    -0.047546          0.589986   \n",
       "product_width_cm                     -0.021649          0.498532   \n",
       "order_item_id                        -0.055200          0.005050   \n",
       "price                                 0.046581          0.327389   \n",
       "freight_value                         0.007356          0.619752   \n",
       "review_score                          0.019299         -0.035415   \n",
       "seller_zip_code_prefix               -0.069707          0.052578   \n",
       "\n",
       "                            product_length_cm  product_height_cm  \\\n",
       "product_name_lenght                  0.062056          -0.036213   \n",
       "product_description_lenght          -0.015678           0.075912   \n",
       "product_photos_qty                   0.019331          -0.047546   \n",
       "product_weight_g                     0.457546           0.589986   \n",
       "product_length_cm                    1.000000           0.202565   \n",
       "product_height_cm                    0.202565           1.000000   \n",
       "product_width_cm                     0.556731           0.273884   \n",
       "order_item_id                        0.015827           0.039466   \n",
       "price                                0.133344           0.218138   \n",
       "freight_value                        0.303955           0.392983   \n",
       "review_score                        -0.029388          -0.033376   \n",
       "seller_zip_code_prefix               0.008833          -0.002437   \n",
       "\n",
       "                            product_width_cm  order_item_id     price  \\\n",
       "product_name_lenght                 0.058908      -0.021284  0.012958   \n",
       "product_description_lenght         -0.081569      -0.009354  0.192724   \n",
       "product_photos_qty                 -0.021649      -0.055200  0.046581   \n",
       "product_weight_g                    0.498532       0.005050  0.327389   \n",
       "product_length_cm                   0.556731       0.015827  0.133344   \n",
       "product_height_cm                   0.273884       0.039466  0.218138   \n",
       "product_width_cm                    1.000000      -0.004436  0.168108   \n",
       "order_item_id                      -0.004436       1.000000 -0.059440   \n",
       "price                               0.168108      -0.059440  1.000000   \n",
       "freight_value                       0.330388      -0.017888  0.395060   \n",
       "review_score                       -0.015394      -0.133298 -0.004074   \n",
       "seller_zip_code_prefix              0.068813      -0.021138  0.096161   \n",
       "\n",
       "                            freight_value  review_score  \\\n",
       "product_name_lenght              0.018647     -0.006972   \n",
       "product_description_lenght       0.089480      0.009803   \n",
       "product_photos_qty               0.007356      0.019299   \n",
       "product_weight_g                 0.619752     -0.035415   \n",
       "product_length_cm                0.303955     -0.029388   \n",
       "product_height_cm                0.392983     -0.033376   \n",
       "product_width_cm                 0.330388     -0.015394   \n",
       "order_item_id                   -0.017888     -0.133298   \n",
       "price                            0.395060     -0.004074   \n",
       "freight_value                    1.000000     -0.045826   \n",
       "review_score                    -0.045826      1.000000   \n",
       "seller_zip_code_prefix           0.149131      0.018341   \n",
       "\n",
       "                            seller_zip_code_prefix  \n",
       "product_name_lenght                      -0.017243  \n",
       "product_description_lenght                0.062148  \n",
       "product_photos_qty                       -0.069707  \n",
       "product_weight_g                          0.052578  \n",
       "product_length_cm                         0.008833  \n",
       "product_height_cm                        -0.002437  \n",
       "product_width_cm                          0.068813  \n",
       "order_item_id                            -0.021138  \n",
       "price                                     0.096161  \n",
       "freight_value                             0.149131  \n",
       "review_score                              0.018341  \n",
       "seller_zip_code_prefix                    1.000000  "
      ]
     },
     "execution_count": 30,
     "metadata": {},
     "output_type": "execute_result"
    }
   ],
   "source": [
    "# Menggunakan metode corr() untuk memeriksa korelasi antar data numerik\n",
    "\n",
    "data_clean[num].corr()"
   ]
  },
  {
   "cell_type": "markdown",
   "metadata": {},
   "source": [
    "**Observasi:**  \n",
    "- Menggunakan describe() dan corr() untuk melihat korelasi dan distribusi data numerik"
   ]
  },
  {
   "cell_type": "markdown",
   "metadata": {},
   "source": [
    "##### Mengelompokan Data"
   ]
  },
  {
   "cell_type": "code",
   "execution_count": 31,
   "metadata": {
    "tags": []
   },
   "outputs": [],
   "source": [
    "# product dengan penjualan terbanyak dan memiliki rating terbaik\n",
    "\n",
    "best_product = data_clean.groupby(by='product_category_name_english').agg({'order_id': 'count',\n",
    "                                                                          'review_score': 'mean'}).reset_index()\n",
    "\n",
    "best_product = best_product.sort_values(by=['order_id', 'review_score'], ascending=[False, False]).head(10).reset_index()"
   ]
  },
  {
   "cell_type": "code",
   "execution_count": 32,
   "metadata": {
    "tags": []
   },
   "outputs": [
    {
     "data": {
      "text/html": [
       "<div>\n",
       "<style scoped>\n",
       "    .dataframe tbody tr th:only-of-type {\n",
       "        vertical-align: middle;\n",
       "    }\n",
       "\n",
       "    .dataframe tbody tr th {\n",
       "        vertical-align: top;\n",
       "    }\n",
       "\n",
       "    .dataframe thead th {\n",
       "        text-align: right;\n",
       "    }\n",
       "</style>\n",
       "<table border=\"1\" class=\"dataframe\">\n",
       "  <thead>\n",
       "    <tr style=\"text-align: right;\">\n",
       "      <th></th>\n",
       "      <th>index</th>\n",
       "      <th>product_category_name_english</th>\n",
       "      <th>order_id</th>\n",
       "      <th>review_score</th>\n",
       "    </tr>\n",
       "  </thead>\n",
       "  <tbody>\n",
       "    <tr>\n",
       "      <th>0</th>\n",
       "      <td>7</td>\n",
       "      <td>bed_bath_table</td>\n",
       "      <td>10286</td>\n",
       "      <td>3.903072</td>\n",
       "    </tr>\n",
       "    <tr>\n",
       "      <th>1</th>\n",
       "      <td>43</td>\n",
       "      <td>health_beauty</td>\n",
       "      <td>7914</td>\n",
       "      <td>4.136341</td>\n",
       "    </tr>\n",
       "    <tr>\n",
       "      <th>2</th>\n",
       "      <td>39</td>\n",
       "      <td>furniture_decor</td>\n",
       "      <td>6976</td>\n",
       "      <td>3.873280</td>\n",
       "    </tr>\n",
       "    <tr>\n",
       "      <th>3</th>\n",
       "      <td>65</td>\n",
       "      <td>sports_leisure</td>\n",
       "      <td>6397</td>\n",
       "      <td>4.070345</td>\n",
       "    </tr>\n",
       "    <tr>\n",
       "      <th>4</th>\n",
       "      <td>49</td>\n",
       "      <td>housewares</td>\n",
       "      <td>5866</td>\n",
       "      <td>4.015172</td>\n",
       "    </tr>\n",
       "    <tr>\n",
       "      <th>5</th>\n",
       "      <td>70</td>\n",
       "      <td>watches_gifts</td>\n",
       "      <td>5490</td>\n",
       "      <td>4.006557</td>\n",
       "    </tr>\n",
       "    <tr>\n",
       "      <th>6</th>\n",
       "      <td>15</td>\n",
       "      <td>computers_accessories</td>\n",
       "      <td>5452</td>\n",
       "      <td>3.951394</td>\n",
       "    </tr>\n",
       "    <tr>\n",
       "      <th>7</th>\n",
       "      <td>68</td>\n",
       "      <td>telephony</td>\n",
       "      <td>4311</td>\n",
       "      <td>3.943401</td>\n",
       "    </tr>\n",
       "    <tr>\n",
       "      <th>8</th>\n",
       "      <td>42</td>\n",
       "      <td>garden_tools</td>\n",
       "      <td>3896</td>\n",
       "      <td>4.036961</td>\n",
       "    </tr>\n",
       "    <tr>\n",
       "      <th>9</th>\n",
       "      <td>5</td>\n",
       "      <td>auto</td>\n",
       "      <td>3704</td>\n",
       "      <td>4.071814</td>\n",
       "    </tr>\n",
       "  </tbody>\n",
       "</table>\n",
       "</div>"
      ],
      "text/plain": [
       "   index product_category_name_english  order_id  review_score\n",
       "0      7                bed_bath_table     10286      3.903072\n",
       "1     43                 health_beauty      7914      4.136341\n",
       "2     39               furniture_decor      6976      3.873280\n",
       "3     65                sports_leisure      6397      4.070345\n",
       "4     49                    housewares      5866      4.015172\n",
       "5     70                 watches_gifts      5490      4.006557\n",
       "6     15         computers_accessories      5452      3.951394\n",
       "7     68                     telephony      4311      3.943401\n",
       "8     42                  garden_tools      3896      4.036961\n",
       "9      5                          auto      3704      4.071814"
      ]
     },
     "execution_count": 32,
     "metadata": {},
     "output_type": "execute_result"
    }
   ],
   "source": [
    "best_product"
   ]
  },
  {
   "cell_type": "code",
   "execution_count": 33,
   "metadata": {
    "tags": []
   },
   "outputs": [],
   "source": [
    "# Kota dengan penjualan terbanyak\n",
    "\n",
    "best_seller = data_clean.groupby(by='seller_city').agg({'order_id': 'count'}).reset_index()\n",
    "best_seller = best_seller.sort_values(by='order_id', ascending=False).head(10).reset_index()"
   ]
  },
  {
   "cell_type": "code",
   "execution_count": 34,
   "metadata": {
    "tags": []
   },
   "outputs": [
    {
     "data": {
      "text/html": [
       "<div>\n",
       "<style scoped>\n",
       "    .dataframe tbody tr th:only-of-type {\n",
       "        vertical-align: middle;\n",
       "    }\n",
       "\n",
       "    .dataframe tbody tr th {\n",
       "        vertical-align: top;\n",
       "    }\n",
       "\n",
       "    .dataframe thead th {\n",
       "        text-align: right;\n",
       "    }\n",
       "</style>\n",
       "<table border=\"1\" class=\"dataframe\">\n",
       "  <thead>\n",
       "    <tr style=\"text-align: right;\">\n",
       "      <th></th>\n",
       "      <th>index</th>\n",
       "      <th>seller_city</th>\n",
       "      <th>order_id</th>\n",
       "    </tr>\n",
       "  </thead>\n",
       "  <tbody>\n",
       "    <tr>\n",
       "      <th>0</th>\n",
       "      <td>325</td>\n",
       "      <td>sao paulo</td>\n",
       "      <td>27646</td>\n",
       "    </tr>\n",
       "    <tr>\n",
       "      <th>1</th>\n",
       "      <td>142</td>\n",
       "      <td>ibitinga</td>\n",
       "      <td>7764</td>\n",
       "    </tr>\n",
       "    <tr>\n",
       "      <th>2</th>\n",
       "      <td>304</td>\n",
       "      <td>santo andre</td>\n",
       "      <td>3000</td>\n",
       "    </tr>\n",
       "    <tr>\n",
       "      <th>3</th>\n",
       "      <td>322</td>\n",
       "      <td>sao jose do rio preto</td>\n",
       "      <td>2564</td>\n",
       "    </tr>\n",
       "    <tr>\n",
       "      <th>4</th>\n",
       "      <td>45</td>\n",
       "      <td>belo horizonte</td>\n",
       "      <td>2500</td>\n",
       "    </tr>\n",
       "    <tr>\n",
       "      <th>5</th>\n",
       "      <td>287</td>\n",
       "      <td>rio de janeiro</td>\n",
       "      <td>2364</td>\n",
       "    </tr>\n",
       "    <tr>\n",
       "      <th>6</th>\n",
       "      <td>280</td>\n",
       "      <td>ribeirao preto</td>\n",
       "      <td>2239</td>\n",
       "    </tr>\n",
       "    <tr>\n",
       "      <th>7</th>\n",
       "      <td>137</td>\n",
       "      <td>guarulhos</td>\n",
       "      <td>1980</td>\n",
       "    </tr>\n",
       "    <tr>\n",
       "      <th>8</th>\n",
       "      <td>256</td>\n",
       "      <td>piracicaba</td>\n",
       "      <td>1908</td>\n",
       "    </tr>\n",
       "    <tr>\n",
       "      <th>9</th>\n",
       "      <td>161</td>\n",
       "      <td>itaquaquecetuba</td>\n",
       "      <td>1652</td>\n",
       "    </tr>\n",
       "  </tbody>\n",
       "</table>\n",
       "</div>"
      ],
      "text/plain": [
       "   index            seller_city  order_id\n",
       "0    325              sao paulo     27646\n",
       "1    142               ibitinga      7764\n",
       "2    304            santo andre      3000\n",
       "3    322  sao jose do rio preto      2564\n",
       "4     45         belo horizonte      2500\n",
       "5    287         rio de janeiro      2364\n",
       "6    280         ribeirao preto      2239\n",
       "7    137              guarulhos      1980\n",
       "8    256             piracicaba      1908\n",
       "9    161        itaquaquecetuba      1652"
      ]
     },
     "execution_count": 34,
     "metadata": {},
     "output_type": "execute_result"
    }
   ],
   "source": [
    "best_seller"
   ]
  },
  {
   "cell_type": "markdown",
   "metadata": {},
   "source": [
    "**Observasi:**  \n",
    "Membuat pengelompokan data sebagai berikut:\n",
    "- Produk dengan penjualan terbanyak dan rating tertinggi menggunakan kolom 'product_category_name_english', order_id, dan 'review_score'\n",
    "- Kota dengan penjualan terbanyak menggunakan kolom 'seller_city', dan 'order_id'"
   ]
  },
  {
   "cell_type": "markdown",
   "metadata": {},
   "source": [
    "## Visualization & Explanatory Analysis"
   ]
  },
  {
   "cell_type": "code",
   "execution_count": 35,
   "metadata": {
    "tags": []
   },
   "outputs": [
    {
     "name": "stdout",
     "output_type": "stream",
     "text": [
      "<class 'pandas.core.frame.DataFrame'>\n",
      "Index: 93580 entries, 0 to 110746\n",
      "Data columns (total 32 columns):\n",
      " #   Column                         Non-Null Count  Dtype  \n",
      "---  ------                         --------------  -----  \n",
      " 0   product_id                     93580 non-null  object \n",
      " 1   product_category_name          93580 non-null  object \n",
      " 2   product_name_lenght            93580 non-null  float64\n",
      " 3   product_description_lenght     93580 non-null  float64\n",
      " 4   product_photos_qty             93580 non-null  float64\n",
      " 5   product_weight_g               93580 non-null  float64\n",
      " 6   product_length_cm              93580 non-null  float64\n",
      " 7   product_height_cm              93580 non-null  float64\n",
      " 8   product_width_cm               93580 non-null  float64\n",
      " 9   product_category_name_english  93580 non-null  object \n",
      " 10  order_id                       93580 non-null  object \n",
      " 11  order_item_id                  93580 non-null  int64  \n",
      " 12  seller_id                      93580 non-null  object \n",
      " 13  shipping_limit_date            93580 non-null  object \n",
      " 14  price                          93580 non-null  float64\n",
      " 15  freight_value                  93580 non-null  float64\n",
      " 16  customer_id                    93580 non-null  object \n",
      " 17  order_status                   93580 non-null  object \n",
      " 18  order_purchase_timestamp       93580 non-null  object \n",
      " 19  order_approved_at              93580 non-null  object \n",
      " 20  order_delivered_carrier_date   93580 non-null  object \n",
      " 21  order_delivered_customer_date  93580 non-null  object \n",
      " 22  order_estimated_delivery_date  93580 non-null  object \n",
      " 23  review_id                      93580 non-null  object \n",
      " 24  review_score                   93580 non-null  int64  \n",
      " 25  review_comment_title           93580 non-null  object \n",
      " 26  review_comment_message         93580 non-null  object \n",
      " 27  review_creation_date           93580 non-null  object \n",
      " 28  review_answer_timestamp        93580 non-null  object \n",
      " 29  seller_zip_code_prefix         93580 non-null  int64  \n",
      " 30  seller_city                    93580 non-null  object \n",
      " 31  seller_state                   93580 non-null  object \n",
      "dtypes: float64(9), int64(3), object(20)\n",
      "memory usage: 23.6+ MB\n"
     ]
    }
   ],
   "source": [
    "data_clean.info()"
   ]
  },
  {
   "cell_type": "markdown",
   "metadata": {},
   "source": [
    "### Univariate Analysis"
   ]
  },
  {
   "cell_type": "markdown",
   "metadata": {},
   "source": [
    "##### Pertanyaan 1:"
   ]
  },
  {
   "cell_type": "markdown",
   "metadata": {},
   "source": [
    "Bagaimana kita dapat mengukur tingkat kepuasan pelanggan dalam bentuk persentase?"
   ]
  },
  {
   "cell_type": "code",
   "execution_count": 36,
   "metadata": {
    "tags": []
   },
   "outputs": [],
   "source": [
    "review_score = data_clean['review_score'].value_counts()"
   ]
  },
  {
   "cell_type": "code",
   "execution_count": 37,
   "metadata": {
    "tags": []
   },
   "outputs": [
    {
     "data": {
      "text/plain": [
       "review_score\n",
       "5    52587\n",
       "4    17771\n",
       "1    11951\n",
       "3     7974\n",
       "2     3297\n",
       "Name: count, dtype: int64"
      ]
     },
     "execution_count": 37,
     "metadata": {},
     "output_type": "execute_result"
    }
   ],
   "source": [
    "review_score"
   ]
  },
  {
   "cell_type": "code",
   "execution_count": 38,
   "metadata": {
    "tags": []
   },
   "outputs": [
    {
     "data": {
      "image/png": "[encoded data removed]",
      "text/plain": [
       "<Figure size 800x800 with 1 Axes>"
      ]
     },
     "metadata": {},
     "output_type": "display_data"
    }
   ],
   "source": [
    "review_score = data_clean['review_score'].value_counts()\n",
    "\n",
    "labels = ['Sangat Puas', 'Puas', 'Kurang Puas', 'Kecewa', 'Sangat Kecewa']\n",
    "colors = ['#1640D6', '#379237', '#E9B824', '#FF6C22', '#D80032']\n",
    "sizes = review_score.values\n",
    "\n",
    "plt.figure(figsize=(8, 8))\n",
    "plt.pie(x=sizes, labels=labels, autopct='%1.1f%%', startangle=140, colors=colors)\n",
    "plt.title('Distribusi Umpan Balik Pelanggan')\n",
    "\n",
    "plt.show()"
   ]
  },
  {
   "cell_type": "markdown",
   "metadata": {},
   "source": [
    "**Observasi:**  \n",
    "Visualisasi ini memberikan gambaran yang jelas tentang tingkat kepuasan pelanggan. Mayoritas pelanggan menyatakan **Sangat Puas** dengan persentase sebanyak 56.2%. kemudian dilanjut dengan pelanggan yang menyatakan **Puas** dengan persentase sebanyak 19%. Meskipun ada sebagian besar respon positif, kita juga melihat bahwa sekitar 12.8% pelanggan merasa **Kurang Puas**, sementara pelanggan yang merasa **Kecewa** dan **Sangat Kecewa** jika dijumlahkan sebanyak 11%, walaupun mayoritas pelanggan merasa puas, masih perlu perhatian terhadap aspek-aspek yang membuat sebagian pelanggan merasa kurang puas atau kecewa."
   ]
  },
  {
   "cell_type": "markdown",
   "metadata": {},
   "source": [
    "##### Pertanyaan 2:"
   ]
  },
  {
   "cell_type": "markdown",
   "metadata": {},
   "source": [
    "Bagaimana distribusi status pesanan pelanggan, seperti pesanan yang sedang diproses, pesanan dalam pengiriman, pesanan yang telah selesai, hingga pesanan yang mengalami pembatalan?"
   ]
  },
  {
   "cell_type": "code",
   "execution_count": 39,
   "metadata": {
    "tags": []
   },
   "outputs": [
    {
     "data": {
      "text/plain": [
       "order_status\n",
       "delivered      91598\n",
       "shipped          953\n",
       "canceled         448\n",
       "invoiced         293\n",
       "processing       280\n",
       "unavailable        5\n",
       "approved           3\n",
       "Name: count, dtype: int64"
      ]
     },
     "execution_count": 39,
     "metadata": {},
     "output_type": "execute_result"
    }
   ],
   "source": [
    "data_clean['order_status'].value_counts()"
   ]
  },
  {
   "cell_type": "code",
   "execution_count": 40,
   "metadata": {
    "tags": []
   },
   "outputs": [
    {
     "data": {
      "image/png": "[encoded data removed]",
      "text/plain": [
       "<Figure size 1200x600 with 1 Axes>"
      ]
     },
     "metadata": {},
     "output_type": "display_data"
    }
   ],
   "source": [
    "plt.figure(figsize=(12,6))\n",
    "ax = sns.countplot(data=data_clean, x='order_status', orient='h')\n",
    "\n",
    "for p in ax.patches:\n",
    "    ax.annotate(f'{p.get_height()}', (p.get_x() + p.get_width() / 2., p.get_height()), ha='center', va='center', fontsize=12, color='black', xytext=(0, 5), textcoords='offset points')\n",
    "\n",
    "plt.title('Distribusi Status Pesanan Pelanggan')\n",
    "plt.xlabel('Status Pesanan')\n",
    "plt.ylabel('Jumlah Pelanggan')\n",
    "plt.tight_layout()\n",
    "\n",
    "plt.show()"
   ]
  },
  {
   "cell_type": "markdown",
   "metadata": {},
   "source": [
    "**Observasi:**  \n",
    "Terdapat status proses pesanan sebagai berikut:\n",
    "- Jumlah pesanan yang **delivered** sebanyak 91598\n",
    "- Jumlah pesanan yang **shipped** sebanyak 953\n",
    "- Jumlah pesanan yang **canceled** sebanyak 448\n",
    "- Jumlah pesanan yang **unavailable** sebanyak 5\n",
    "- Jumlah pesanan yang **processing** sebanyak 280\n",
    "- Jumlah pesanan yang **invoiced** sebanyak 293\n",
    "- Jumlah pesanan yang **approved** sebanyak 3\n",
    "\n",
    "Namun, fokus perlu kita perhatikan kepada pelanggan yang melakukan **canceled** dengan jumlah sebanyak 448 pesanan dibatalkan. sehingga perlu strategi khusus untuk menurunkan pembatalan pesanan tersebut."
   ]
  },
  {
   "cell_type": "markdown",
   "metadata": {},
   "source": [
    "### Multivariate Analysis"
   ]
  },
  {
   "cell_type": "markdown",
   "metadata": {},
   "source": [
    "##### Pertanyaan 3:"
   ]
  },
  {
   "cell_type": "markdown",
   "metadata": {},
   "source": [
    "Produk apa saja yang memiliki penjualan terbanyak dan rating terbaik?"
   ]
  },
  {
   "cell_type": "code",
   "execution_count": 41,
   "metadata": {},
   "outputs": [
    {
     "data": {
      "image/png": "[encoded data removed]",
      "text/plain": [
       "<Figure size 1200x600 with 1 Axes>"
      ]
     },
     "metadata": {},
     "output_type": "display_data"
    }
   ],
   "source": [
    "sns.set(style=\"whitegrid\")\n",
    "plt.figure(figsize=(12,6))\n",
    "\n",
    "bars = plt.barh(best_product['product_category_name_english'],\n",
    "                best_product['review_score'],\n",
    "                color='#3970F1'\n",
    "               )\n",
    "\n",
    "for bar, order_count in zip(bars, best_product['order_id']):\n",
    "    plt.text(bar.get_width() + 0.1, bar.get_y() + bar.get_height() / 2, str(order_count), ha='center', va='center')\n",
    "\n",
    "plt.xlabel('Jumlah Rating')\n",
    "plt.ylabel('Kategori Produk')\n",
    "plt.title('10 Produk dengan Penjualan Terbanyak dan Rating Terbaik')\n",
    "\n",
    "plt.gca().invert_yaxis()\n",
    "plt.show()"
   ]
  },
  {
   "cell_type": "markdown",
   "metadata": {},
   "source": [
    "**Observasi:**  \n",
    "Terdapat Sumbu Y yang menunjukkan kolom 'product_category_name_english' dan sumbu X yang menunjukkan kolom 'review_score' yang menggambarkan Rating/Umpan Balik dari pelanggan.\n",
    "\n",
    "Berdasarkan data visualisasi terlihat bahwa produk dengan rating tertinggi terdapat pada produk **healty_beuty** dan **auto** dengan rating 4 sekian. tetapi untuk produk yang memiliki penjualan terbanyak ialah produk **bed_bath_table** dengan penjualan sebanyak 10286 dan memiliki rating 3.9."
   ]
  },
  {
   "cell_type": "markdown",
   "metadata": {},
   "source": [
    "##### Pertanyaan 4: "
   ]
  },
  {
   "cell_type": "markdown",
   "metadata": {},
   "source": [
    "Kota mana saja yang memiliki penjualan terbanyak?"
   ]
  },
  {
   "cell_type": "code",
   "execution_count": 42,
   "metadata": {
    "tags": []
   },
   "outputs": [
    {
     "data": {
      "image/png": "[encoded data removed]",
      "text/plain": [
       "<Figure size 1200x600 with 1 Axes>"
      ]
     },
     "metadata": {},
     "output_type": "display_data"
    }
   ],
   "source": [
    "sns.set(style=\"whitegrid\")\n",
    "plt.figure(figsize=(12,6))\n",
    "\n",
    "plt.barh(best_seller['seller_city'],\n",
    "         best_seller['order_id'],\n",
    "         color='#3970F1'\n",
    "         )\n",
    "\n",
    "plt.xlabel('Jumlah Order')\n",
    "plt.ylabel('Kota')\n",
    "plt.title('10 Kota dengan Penjualan Terbanyak')\n",
    "\n",
    "plt.gca().invert_yaxis()\n",
    "plt.show()"
   ]
  },
  {
   "cell_type": "markdown",
   "metadata": {},
   "source": [
    "**Observasi:**  \n",
    "Terdapat Sumbu Y yang menunjukkan kolom 'seller_city' dan sumbu X yang menunjukkan kolom 'order_id' yang menggambarkan jumlah penjualan.\n",
    "\n",
    "Berdasarkan data visualisasi terlihat bahwa kota dengan penjualan terbanyak terdapat pada kota **sao paulo** dengan penjualan sebanyak 25000 sekian. Jika kita lihat bahwa distribusi penjualan mengalami perbedaan yang signifikan sehingga perlu strategi khusus untuk meningkatkan penjualan untuk kota-kota yang lain."
   ]
  },
  {
   "cell_type": "markdown",
   "metadata": {},
   "source": [
    "## Conclusion"
   ]
  },
  {
   "cell_type": "markdown",
   "metadata": {},
   "source": [
    "Saya akan memberikan beberapa rekomendasi atau solusi yang dapat digunakan oleh stakeholder \n",
    "\n",
    "Solusi Pertanyaan 1: \n",
    "- Stakeholder dapat meningkatkan kualitas produk atau layanan. seperti Melakukan riset pasar untuk mengetahui kebutuhan dan keinginan pelanggan, serta melakukan inovasi produk atau layanan secara berkala.\n",
    "- stakeholder dapat meningkatkan komunikasi dengan pelanggan. seperti Meningkatkan kemudahan dalam menyampaikan keluhan kepada pelanggan, atau meningkatkan responsivitas terhadap keluhan pelanggan.\n",
    "\n",
    "Solusi Pertanyaan 2:\n",
    "- Mengumpulkan umpan balik dari pelanggan yang membatalkan pesanan. Mungkin dengan menyelenggarakan survei singkat atau menghubungi mereka langsung. Ini dapat memberikan insight langsung dan membantu meningkatkan proses pelayanan.\n",
    "- Pastikan proses pengiriman berjalan lancar dan sesuai dengan harapan pelanggan. Informasi pelacakan yang akurat dan pengiriman tepat waktu dapat mengurangi kemungkinan pembatalan.\n",
    "\n",
    "Solusi Pertanyaan 3:\n",
    "- Meskipun produk kategori \"health_beauty\" dan \"auto\" memiliki rating tertinggi, perhatikan untuk tetap mempertahankan dan meningkatkan kualitas produk dalam kategori tersebut. Ini dapat menciptakan kepuasan pelanggan yang lebih besar dan membangun reputasi positif.\n",
    "- Mengidentifikasi faktor-faktor yang menyebabkan rating menurun dan perbaiki masalah tersebut. Hal ini dapat membantu meningkatkan kepuasan pelanggan dan meningkatkan rating produk.\n",
    "- Tinjau kembali strategi persediaan dan permintaan untuk memastikan bahwa produk dengan rating tinggi memiliki ketersediaan yang memadai. Jika ada kekurangan stok, ini dapat menyebabkan penurunan kepuasan pelanggan.\n",
    "\n",
    "Solusi Pertanyaan 4:\n",
    "- Lakukan analisis pasar untuk masing-masing kota dengan penjualan rendah. Pahami karakteristik demografis, preferensi pelanggan, dan tren pasar di setiap kota untuk merancang strategi yang sesuai.\n",
    "- Sesuaikan penawaran produk dengan kebutuhan pelanggan. Produk atau layanan yang populer di Sao Paulo mungkin tidak sepopuler di kota lain, jadi perlu adaptasi."
   ]
  },
  {
   "cell_type": "markdown",
   "metadata": {},
   "source": [
    "## Teknik Analisis Lanjutan"
   ]
  },
  {
   "cell_type": "markdown",
   "metadata": {},
   "source": [
    "##### Unsupervised = Metode Clustering"
   ]
  },
  {
   "cell_type": "code",
   "execution_count": 43,
   "metadata": {},
   "outputs": [],
   "source": [
    "feature = ['price', 'review_score']\n",
    "X = data_clean[feature].values"
   ]
  },
  {
   "cell_type": "code",
   "execution_count": 44,
   "metadata": {},
   "outputs": [
    {
     "data": {
      "text/html": [
       "<div>\n",
       "<style scoped>\n",
       "    .dataframe tbody tr th:only-of-type {\n",
       "        vertical-align: middle;\n",
       "    }\n",
       "\n",
       "    .dataframe tbody tr th {\n",
       "        vertical-align: top;\n",
       "    }\n",
       "\n",
       "    .dataframe thead th {\n",
       "        text-align: right;\n",
       "    }\n",
       "</style>\n",
       "<table border=\"1\" class=\"dataframe\">\n",
       "  <thead>\n",
       "    <tr style=\"text-align: right;\">\n",
       "      <th></th>\n",
       "      <th>price</th>\n",
       "      <th>review_score</th>\n",
       "    </tr>\n",
       "  </thead>\n",
       "  <tbody>\n",
       "    <tr>\n",
       "      <th>count</th>\n",
       "      <td>93580.000000</td>\n",
       "      <td>93580.000000</td>\n",
       "    </tr>\n",
       "    <tr>\n",
       "      <th>mean</th>\n",
       "      <td>115.860476</td>\n",
       "      <td>4.023146</td>\n",
       "    </tr>\n",
       "    <tr>\n",
       "      <th>std</th>\n",
       "      <td>178.711452</td>\n",
       "      <td>1.391744</td>\n",
       "    </tr>\n",
       "    <tr>\n",
       "      <th>min</th>\n",
       "      <td>0.850000</td>\n",
       "      <td>1.000000</td>\n",
       "    </tr>\n",
       "    <tr>\n",
       "      <th>25%</th>\n",
       "      <td>39.000000</td>\n",
       "      <td>4.000000</td>\n",
       "    </tr>\n",
       "    <tr>\n",
       "      <th>50%</th>\n",
       "      <td>69.900000</td>\n",
       "      <td>5.000000</td>\n",
       "    </tr>\n",
       "    <tr>\n",
       "      <th>75%</th>\n",
       "      <td>129.900000</td>\n",
       "      <td>5.000000</td>\n",
       "    </tr>\n",
       "    <tr>\n",
       "      <th>max</th>\n",
       "      <td>6735.000000</td>\n",
       "      <td>5.000000</td>\n",
       "    </tr>\n",
       "  </tbody>\n",
       "</table>\n",
       "</div>"
      ],
      "text/plain": [
       "              price  review_score\n",
       "count  93580.000000  93580.000000\n",
       "mean     115.860476      4.023146\n",
       "std      178.711452      1.391744\n",
       "min        0.850000      1.000000\n",
       "25%       39.000000      4.000000\n",
       "50%       69.900000      5.000000\n",
       "75%      129.900000      5.000000\n",
       "max     6735.000000      5.000000"
      ]
     },
     "execution_count": 44,
     "metadata": {},
     "output_type": "execute_result"
    }
   ],
   "source": [
    "data_clean[feature].describe()"
   ]
  },
  {
   "cell_type": "code",
   "execution_count": 45,
   "metadata": {},
   "outputs": [
    {
     "data": {
      "text/html": [
       "<div>\n",
       "<style scoped>\n",
       "    .dataframe tbody tr th:only-of-type {\n",
       "        vertical-align: middle;\n",
       "    }\n",
       "\n",
       "    .dataframe tbody tr th {\n",
       "        vertical-align: top;\n",
       "    }\n",
       "\n",
       "    .dataframe thead th {\n",
       "        text-align: right;\n",
       "    }\n",
       "</style>\n",
       "<table border=\"1\" class=\"dataframe\">\n",
       "  <thead>\n",
       "    <tr style=\"text-align: right;\">\n",
       "      <th></th>\n",
       "      <th>price</th>\n",
       "      <th>review_score</th>\n",
       "    </tr>\n",
       "  </thead>\n",
       "  <tbody>\n",
       "    <tr>\n",
       "      <th>0</th>\n",
       "      <td>-0.587265</td>\n",
       "      <td>0.701896</td>\n",
       "    </tr>\n",
       "    <tr>\n",
       "      <th>1</th>\n",
       "      <td>0.853445</td>\n",
       "      <td>-0.016631</td>\n",
       "    </tr>\n",
       "    <tr>\n",
       "      <th>2</th>\n",
       "      <td>-0.605507</td>\n",
       "      <td>0.701896</td>\n",
       "    </tr>\n",
       "    <tr>\n",
       "      <th>3</th>\n",
       "      <td>0.853445</td>\n",
       "      <td>-0.735158</td>\n",
       "    </tr>\n",
       "    <tr>\n",
       "      <th>4</th>\n",
       "      <td>-0.553859</td>\n",
       "      <td>-0.016631</td>\n",
       "    </tr>\n",
       "  </tbody>\n",
       "</table>\n",
       "</div>"
      ],
      "text/plain": [
       "      price  review_score\n",
       "0 -0.587265      0.701896\n",
       "1  0.853445     -0.016631\n",
       "2 -0.605507      0.701896\n",
       "3  0.853445     -0.735158\n",
       "4 -0.553859     -0.016631"
      ]
     },
     "execution_count": 45,
     "metadata": {},
     "output_type": "execute_result"
    }
   ],
   "source": [
    "X_std = StandardScaler().fit_transform(X)\n",
    "data_model = pd.DataFrame(data = X_std, columns = feature)\n",
    "\n",
    "data_model.head()"
   ]
  },
  {
   "cell_type": "code",
   "execution_count": 46,
   "metadata": {},
   "outputs": [
    {
     "name": "stderr",
     "output_type": "stream",
     "text": [
      "c:\\Users\\Siswantoro\\AppData\\Local\\Programs\\Python\\Python312\\Lib\\site-packages\\sklearn\\cluster\\_kmeans.py:1416: FutureWarning: The default value of n_init will change from 10 to 'auto' in 1.4. Set the value of n_init explicitly to suppress the warning\n",
      "  super()._check_params_vs_input(X, default_n_init=10)\n"
     ]
    },
    {
     "name": "stderr",
     "output_type": "stream",
     "text": [
      "c:\\Users\\Siswantoro\\AppData\\Local\\Programs\\Python\\Python312\\Lib\\site-packages\\joblib\\externals\\loky\\backend\\context.py:136: UserWarning: Could not find the number of physical cores for the following reason:\n",
      "found 0 physical cores < 1\n",
      "Returning the number of logical cores instead. You can silence this warning by setting LOKY_MAX_CPU_COUNT to the number of cores you want to use.\n",
      "  warnings.warn(\n",
      "  File \"c:\\Users\\Siswantoro\\AppData\\Local\\Programs\\Python\\Python312\\Lib\\site-packages\\joblib\\externals\\loky\\backend\\context.py\", line 282, in _count_physical_cores\n",
      "    raise ValueError(f\"found {cpu_count_physical} physical cores < 1\")\n",
      "c:\\Users\\Siswantoro\\AppData\\Local\\Programs\\Python\\Python312\\Lib\\site-packages\\sklearn\\cluster\\_kmeans.py:1416: FutureWarning: The default value of n_init will change from 10 to 'auto' in 1.4. Set the value of n_init explicitly to suppress the warning\n",
      "  super()._check_params_vs_input(X, default_n_init=10)\n",
      "c:\\Users\\Siswantoro\\AppData\\Local\\Programs\\Python\\Python312\\Lib\\site-packages\\sklearn\\cluster\\_kmeans.py:1416: FutureWarning: The default value of n_init will change from 10 to 'auto' in 1.4. Set the value of n_init explicitly to suppress the warning\n",
      "  super()._check_params_vs_input(X, default_n_init=10)\n",
      "c:\\Users\\Siswantoro\\AppData\\Local\\Programs\\Python\\Python312\\Lib\\site-packages\\sklearn\\cluster\\_kmeans.py:1416: FutureWarning: The default value of n_init will change from 10 to 'auto' in 1.4. Set the value of n_init explicitly to suppress the warning\n",
      "  super()._check_params_vs_input(X, default_n_init=10)\n",
      "c:\\Users\\Siswantoro\\AppData\\Local\\Programs\\Python\\Python312\\Lib\\site-packages\\sklearn\\cluster\\_kmeans.py:1416: FutureWarning: The default value of n_init will change from 10 to 'auto' in 1.4. Set the value of n_init explicitly to suppress the warning\n",
      "  super()._check_params_vs_input(X, default_n_init=10)\n",
      "c:\\Users\\Siswantoro\\AppData\\Local\\Programs\\Python\\Python312\\Lib\\site-packages\\sklearn\\cluster\\_kmeans.py:1416: FutureWarning: The default value of n_init will change from 10 to 'auto' in 1.4. Set the value of n_init explicitly to suppress the warning\n",
      "  super()._check_params_vs_input(X, default_n_init=10)\n",
      "c:\\Users\\Siswantoro\\AppData\\Local\\Programs\\Python\\Python312\\Lib\\site-packages\\sklearn\\cluster\\_kmeans.py:1416: FutureWarning: The default value of n_init will change from 10 to 'auto' in 1.4. Set the value of n_init explicitly to suppress the warning\n",
      "  super()._check_params_vs_input(X, default_n_init=10)\n",
      "c:\\Users\\Siswantoro\\AppData\\Local\\Programs\\Python\\Python312\\Lib\\site-packages\\sklearn\\cluster\\_kmeans.py:1416: FutureWarning: The default value of n_init will change from 10 to 'auto' in 1.4. Set the value of n_init explicitly to suppress the warning\n",
      "  super()._check_params_vs_input(X, default_n_init=10)\n",
      "c:\\Users\\Siswantoro\\AppData\\Local\\Programs\\Python\\Python312\\Lib\\site-packages\\sklearn\\cluster\\_kmeans.py:1416: FutureWarning: The default value of n_init will change from 10 to 'auto' in 1.4. Set the value of n_init explicitly to suppress the warning\n",
      "  super()._check_params_vs_input(X, default_n_init=10)\n"
     ]
    },
    {
     "data": {
      "text/html": [
       "<style>#sk-container-id-1 {color: black;}#sk-container-id-1 pre{padding: 0;}#sk-container-id-1 div.sk-toggleable {background-color: white;}#sk-container-id-1 label.sk-toggleable__label {cursor: pointer;display: block;width: 100%;margin-bottom: 0;padding: 0.3em;box-sizing: border-box;text-align: center;}#sk-container-id-1 label.sk-toggleable__label-arrow:before {content: \"▸\";float: left;margin-right: 0.25em;color: #696969;}#sk-container-id-1 label.sk-toggleable__label-arrow:hover:before {color: black;}#sk-container-id-1 div.sk-estimator:hover label.sk-toggleable__label-arrow:before {color: black;}#sk-container-id-1 div.sk-toggleable__content {max-height: 0;max-width: 0;overflow: hidden;text-align: left;background-color: #f0f8ff;}#sk-container-id-1 div.sk-toggleable__content pre {margin: 0.2em;color: black;border-radius: 0.25em;background-color: #f0f8ff;}#sk-container-id-1 input.sk-toggleable__control:checked~div.sk-toggleable__content {max-height: 200px;max-width: 100%;overflow: auto;}#sk-container-id-1 input.sk-toggleable__control:checked~label.sk-toggleable__label-arrow:before {content: \"▾\";}#sk-container-id-1 div.sk-estimator input.sk-toggleable__control:checked~label.sk-toggleable__label {background-color: #d4ebff;}#sk-container-id-1 div.sk-label input.sk-toggleable__control:checked~label.sk-toggleable__label {background-color: #d4ebff;}#sk-container-id-1 input.sk-hidden--visually {border: 0;clip: rect(1px 1px 1px 1px);clip: rect(1px, 1px, 1px, 1px);height: 1px;margin: -1px;overflow: hidden;padding: 0;position: absolute;width: 1px;}#sk-container-id-1 div.sk-estimator {font-family: monospace;background-color: #f0f8ff;border: 1px dotted black;border-radius: 0.25em;box-sizing: border-box;margin-bottom: 0.5em;}#sk-container-id-1 div.sk-estimator:hover {background-color: #d4ebff;}#sk-container-id-1 div.sk-parallel-item::after {content: \"\";width: 100%;border-bottom: 1px solid gray;flex-grow: 1;}#sk-container-id-1 div.sk-label:hover label.sk-toggleable__label {background-color: #d4ebff;}#sk-container-id-1 div.sk-serial::before {content: \"\";position: absolute;border-left: 1px solid gray;box-sizing: border-box;top: 0;bottom: 0;left: 50%;z-index: 0;}#sk-container-id-1 div.sk-serial {display: flex;flex-direction: column;align-items: center;background-color: white;padding-right: 0.2em;padding-left: 0.2em;position: relative;}#sk-container-id-1 div.sk-item {position: relative;z-index: 1;}#sk-container-id-1 div.sk-parallel {display: flex;align-items: stretch;justify-content: center;background-color: white;position: relative;}#sk-container-id-1 div.sk-item::before, #sk-container-id-1 div.sk-parallel-item::before {content: \"\";position: absolute;border-left: 1px solid gray;box-sizing: border-box;top: 0;bottom: 0;left: 50%;z-index: -1;}#sk-container-id-1 div.sk-parallel-item {display: flex;flex-direction: column;z-index: 1;position: relative;background-color: white;}#sk-container-id-1 div.sk-parallel-item:first-child::after {align-self: flex-end;width: 50%;}#sk-container-id-1 div.sk-parallel-item:last-child::after {align-self: flex-start;width: 50%;}#sk-container-id-1 div.sk-parallel-item:only-child::after {width: 0;}#sk-container-id-1 div.sk-dashed-wrapped {border: 1px dashed gray;margin: 0 0.4em 0.5em 0.4em;box-sizing: border-box;padding-bottom: 0.4em;background-color: white;}#sk-container-id-1 div.sk-label label {font-family: monospace;font-weight: bold;display: inline-block;line-height: 1.2em;}#sk-container-id-1 div.sk-label-container {text-align: center;}#sk-container-id-1 div.sk-container {/* jupyter's normalize.less sets [hidden] { display: none; } but bootstrap.min.css set [hidden] { display: none !important; } so we also need the !important here to be able to override the default hidden behavior on the sphinx rendered scikit-learn.org. See: https://github.com/scikit-learn/scikit-learn/issues/21755 */display: inline-block !important;position: relative;}#sk-container-id-1 div.sk-text-repr-fallback {display: none;}</style><div id=\"sk-container-id-1\" class=\"sk-top-container\"><div class=\"sk-text-repr-fallback\"><pre>KMeans(n_clusters=10, random_state=0)</pre><b>In a Jupyter environment, please rerun this cell to show the HTML representation or trust the notebook. <br />On GitHub, the HTML representation is unable to render, please try loading this page with nbviewer.org.</b></div><div class=\"sk-container\" hidden><div class=\"sk-item\"><div class=\"sk-estimator sk-toggleable\"><input class=\"sk-toggleable__control sk-hidden--visually\" id=\"sk-estimator-id-1\" type=\"checkbox\" checked><label for=\"sk-estimator-id-1\" class=\"sk-toggleable__label sk-toggleable__label-arrow\">KMeans</label><div class=\"sk-toggleable__content\"><pre>KMeans(n_clusters=10, random_state=0)</pre></div></div></div></div></div>"
      ],
      "text/plain": [
       "KMeans(n_clusters=10, random_state=0)"
      ]
     },
     "execution_count": 46,
     "metadata": {},
     "output_type": "execute_result"
    }
   ],
   "source": [
    "inertia = []\n",
    "\n",
    "for i in range(2, 11):\n",
    "    kmeans = KMeans(n_clusters=i, random_state=0)\n",
    "    kmeans.fit(data_model.values)\n",
    "    inertia.append(kmeans.inertia_)\n",
    "\n",
    "kmeans"
   ]
  },
  {
   "cell_type": "code",
   "execution_count": 47,
   "metadata": {},
   "outputs": [
    {
     "data": {
      "text/plain": [
       "<Axes: >"
      ]
     },
     "execution_count": 47,
     "metadata": {},
     "output_type": "execute_result"
    },
    {
     "data": {
      "image/png": "[encoded data removed]",
      "text/plain": [
       "<Figure size 2000x1000 with 1 Axes>"
      ]
     },
     "metadata": {},
     "output_type": "display_data"
    }
   ],
   "source": [
    "plt.figure(figsize=(20, 10))\n",
    "\n",
    "sns.lineplot(x=range(2, 11), y=inertia, color='#3970F1', linewidth = 4)\n",
    "sns.scatterplot(x=range(2, 11), y=inertia, s=300, color='black',  linestyle='--')"
   ]
  },
  {
   "cell_type": "code",
   "execution_count": 48,
   "metadata": {},
   "outputs": [],
   "source": [
    "data_clean.to_csv(\"main_data.csv\", index=False)"
   ]
  },
  {
   "cell_type": "code",
   "execution_count": null,
   "metadata": {},
   "outputs": [],
   "source": []
  }
 ],
 "metadata": {
  "kernelspec": {
   "display_name": "Python 3 (ipykernel)",
   "language": "python",
   "name": "python3"
  },
  "language_info": {
   "codemirror_mode": {
    "name": "ipython",
    "version": 3
   },
   "file_extension": ".py",
   "mimetype": "text/x-python",
   "name": "python",
   "nbconvert_exporter": "python",
   "pygments_lexer": "ipython3",
   "version": "3.11.5"
  },
  "toc-autonumbering": false,
  "toc-showcode": false,
  "toc-showmarkdowntxt": false,
  "vscode": {
   "interpreter": {
    "hash": "972b3bf27e332e87b5379f2791f6ef9dfc79c71018c370b0d7423235e20fe4d7"
   }
  }
 },
 "nbformat": 4,
 "nbformat_minor": 4
}
